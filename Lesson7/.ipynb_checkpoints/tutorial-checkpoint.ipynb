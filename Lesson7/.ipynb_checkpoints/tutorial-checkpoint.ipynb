{
 "cells": [
  {
   "cell_type": "markdown",
   "metadata": {},
   "source": [
    "# Uploading, Streaming, and Sampling Data"
   ]
  },
  {
   "cell_type": "markdown",
   "metadata": {},
   "source": [
    "## Uploading small amounts of data into memory"
   ]
  },
  {
   "cell_type": "code",
   "execution_count": null,
   "metadata": {
    "collapsed": false
   },
   "outputs": [],
   "source": [
    "with open(\"Colors.txt\", 'r') as open_file:\n",
    "    print 'Colors.txt content:\\n' + open_file.read()"
   ]
  },
  {
   "cell_type": "code",
   "execution_count": null,
   "metadata": {
    "collapsed": false
   },
   "outputs": [],
   "source": [
    "# same example but reading only 10 characters\n",
    "with open(\"Colors.txt\", 'r') as open_file:\n",
    "    print 'Colors.txt content:\\n' + open_file.read(11)"
   ]
  },
  {
   "cell_type": "markdown",
   "metadata": {},
   "source": [
    "## Streaming large amounts of data into memory\n",
    "\n",
    "Some datasets will be so large that you wont be able fit them entirely in memory at one time. In addition, you may find that some datasets load slowly because they reside on a remote site. Streaming answers both needs by making it possible to work with data a little at a time."
   ]
  },
  {
   "cell_type": "code",
   "execution_count": null,
   "metadata": {
    "collapsed": false
   },
   "outputs": [],
   "source": [
    "with open(\"Colors.txt\", 'r') as open_file:\n",
    "    for observation in open_file:\n",
    "        # this is Pythin 2 so end cannot be used. The , at the end means suppress newline\n",
    "        print 'Reading Data: ' + observation,"
   ]
  },
  {
   "cell_type": "markdown",
   "metadata": {},
   "source": [
    "## Sampling data\n",
    "\n",
    "Data streaming obtains all the records from a data source. You may find that you dont need all the records. You can save time and resources by simply sampling the data. "
   ]
  },
  {
   "cell_type": "markdown",
   "metadata": {},
   "source": [
    "### Fixed samples\n",
    "This example samples every other record."
   ]
  },
  {
   "cell_type": "code",
   "execution_count": null,
   "metadata": {
    "collapsed": false
   },
   "outputs": [],
   "source": [
    "''' \n",
    "enumerate is built in Python function, example:\n",
    "\n",
    "seasons = ['Spring', 'Summer', 'Fall', 'Winter']\n",
    "list(enumerate(seasons))\n",
    "[(0, 'Spring'), (1, 'Summer'), (2, 'Fall'), (3, 'Winter')]\n",
    "\n",
    "'''\n",
    "n = 3\n",
    "with open(\"Colors.txt\", 'rb') as open_file:\n",
    "    for j, observation in enumerate(open_file):\n",
    "        if j % n==0:\n",
    "            print('Reading Line: ' + str(j) + \n",
    "            ' Content: ' + observation)"
   ]
  },
  {
   "cell_type": "markdown",
   "metadata": {},
   "source": [
    "### Random samples\n",
    "You can perform random sampling as well. All you need to do is randomize the selector.\n"
   ]
  },
  {
   "cell_type": "code",
   "execution_count": null,
   "metadata": {
    "collapsed": false
   },
   "outputs": [],
   "source": [
    "from random import random\n",
    "sample_size = 0.25\n",
    "with open(\"Colors.txt\", 'rb') as open_file:\n",
    "    for j, observation in enumerate(open_file):\n",
    "        if random()<=sample_size:\n",
    "            print('Reading Line: ' + str(j) + \n",
    "            ' Content: ' + observation)"
   ]
  },
  {
   "cell_type": "markdown",
   "metadata": {},
   "source": [
    "# Accessing Data in Structured Flat File Form\n",
    "\n",
    "A problem with using native Python techniques is that the input isnt intelligent. For example, when a file contains a header, Python simply reads it as yet more data to process, rather than as a header."
   ]
  },
  {
   "cell_type": "markdown",
   "metadata": {},
   "source": [
    "## Reading from a text file"
   ]
  },
  {
   "cell_type": "code",
   "execution_count": null,
   "metadata": {
    "collapsed": false
   },
   "outputs": [],
   "source": [
    "import pandas as pd\n",
    "color_table = pd.io.parsers.read_table(\"Colors.txt\")\n",
    "print color_table"
   ]
  },
  {
   "cell_type": "markdown",
   "metadata": {},
   "source": [
    "## Reading CSV delimited format"
   ]
  },
  {
   "cell_type": "code",
   "execution_count": null,
   "metadata": {
    "collapsed": false
   },
   "outputs": [],
   "source": [
    "import pandas as pd\n",
    "titanic = pd.io.parsers.read_csv(\"Titanic.csv\")\n",
    "type(titanic)"
   ]
  },
  {
   "cell_type": "code",
   "execution_count": null,
   "metadata": {
    "collapsed": false
   },
   "outputs": [],
   "source": [
    "titanic"
   ]
  },
  {
   "cell_type": "code",
   "execution_count": null,
   "metadata": {
    "collapsed": false
   },
   "outputs": [],
   "source": [
    "titanic[['age']] # you can execute titanic['age'] and gives you a Series"
   ]
  },
  {
   "cell_type": "code",
   "execution_count": null,
   "metadata": {
    "collapsed": false
   },
   "outputs": [],
   "source": [
    "titanic[['age', 'sex']].sort('age')"
   ]
  },
  {
   "cell_type": "markdown",
   "metadata": {},
   "source": [
    "## Reading Excel and other Microsoft Office files"
   ]
  },
  {
   "cell_type": "code",
   "execution_count": null,
   "metadata": {
    "collapsed": false
   },
   "outputs": [],
   "source": [
    "import pandas as pd\n",
    "xls = pd.ExcelFile(\"Values.xls\")\n",
    "# The index column is the one that the worksheet uses to index the records. Using value of None means \n",
    "# that panda should generate an index for you.\n",
    "trig_values = xls.parse('Sheet1', index_col=None, na_values=['NA'])\n",
    "\n",
    "# you can do it in one shot as follows:\n",
    "#trig_values = pd.read_excel(\"Values.xls\", 'Sheet1', na_values=['NA'])\n",
    "trig_values"
   ]
  },
  {
   "cell_type": "markdown",
   "metadata": {},
   "source": [
    "# Sending Data in Unstructured File Form\n",
    "\n",
    "Unstructured data files consist of series of bits. The file doesnt separate the bits from each other in any way. You cannnot simply look into the file and see any structure because there isnt any to see. Unstructured file formats rely on the file user to know how to interpret the data. For example, each pixel of a picture file could consist of three 32-bit fields. Knowing that each field is 32-bits is up to you."
   ]
  },
  {
   "cell_type": "markdown",
   "metadata": {},
   "source": [
    "## Rendering the image"
   ]
  },
  {
   "cell_type": "code",
   "execution_count": null,
   "metadata": {
    "collapsed": false
   },
   "outputs": [],
   "source": [
    "% matplotlib inline\n",
    "# these are coming from scikit modules\n",
    "from skimage.io import imread\n",
    "from skimage.transform import resize \n",
    "\n",
    "from matplotlib import pyplot as plt\n",
    "import matplotlib.cm as cm\n",
    "\n",
    "example_file = (\"http://upload.wikimedia.org/\" +\n",
    "    \"wikipedia/commons/7/7d/Dog_face.png\")\n",
    "image = imread(example_file)\n",
    "plt.imshow(image)\n",
    "plt.show()"
   ]
  },
  {
   "cell_type": "markdown",
   "metadata": {},
   "source": [
    "## Displaying the image information"
   ]
  },
  {
   "cell_type": "code",
   "execution_count": null,
   "metadata": {
    "collapsed": false
   },
   "outputs": [],
   "source": [
    "# 90 x 90 and 3 for colors\n",
    "print(\"data type: %s, shape: %s\" % \n",
    "      (type(image), image.shape))"
   ]
  },
  {
   "cell_type": "markdown",
   "metadata": {},
   "source": [
    "## Cropping the image"
   ]
  },
  {
   "cell_type": "code",
   "execution_count": null,
   "metadata": {
    "collapsed": false
   },
   "outputs": [],
   "source": [
    "image2 = image[5:70,0:70]\n",
    "plt.imshow(image2)\n",
    "plt.show()"
   ]
  },
  {
   "cell_type": "markdown",
   "metadata": {},
   "source": [
    "## Resizing the image"
   ]
  },
  {
   "cell_type": "code",
   "execution_count": null,
   "metadata": {
    "collapsed": false
   },
   "outputs": [],
   "source": [
    "image3 = resize(image2, (30, 30))\n",
    "plt.imshow(image3)\n",
    "print(\"data type: %s, shape: %s\" % \n",
    "      (type(image3), image3.shape))"
   ]
  },
  {
   "cell_type": "markdown",
   "metadata": {},
   "source": [
    "## Flatening the image"
   ]
  },
  {
   "cell_type": "code",
   "execution_count": null,
   "metadata": {
    "collapsed": false
   },
   "outputs": [],
   "source": [
    "image_row = image3.flatten()\n",
    "print(\"data type: %s, shape: %s\" % \n",
    "      (type(image_row), image_row.shape))"
   ]
  },
  {
   "cell_type": "markdown",
   "metadata": {},
   "source": [
    "# Accessing Data from the Web\n",
    "\n",
    "One of the most beneficial data access techniques to know when working with web data is accessing XML. All sorts of content types rely on XML, even some webpages."
   ]
  },
  {
   "cell_type": "code",
   "execution_count": null,
   "metadata": {
    "collapsed": false
   },
   "outputs": [],
   "source": [
    "from lxml import objectify\n",
    "import pandas as pd\n",
    "\n",
    "xml = objectify.parse(open('XMLData.xml'))\n",
    "root = xml.getroot()\n",
    "df = pd.DataFrame(columns=('Number', 'String', 'Boolean'))\n",
    "\n",
    "for i in range(0,4):\n",
    "    obj = root.getchildren()[i].getchildren()\n",
    "    # zip makes a tuple list of tuples like [('Number', '1'), ('String', 'First'), ('Boolean', 'True')]\n",
    "    # dict makes a dictionary of those tuples\n",
    "    row = dict(zip(['Number', 'String', 'Boolean'], \n",
    "                   [obj[0].text, obj[1].text, \n",
    "                    obj[2].text]))\n",
    "    \n",
    "    row_s = pd.Series(row)\n",
    "    print row_s \n",
    "    # name for each row (index name)\n",
    "    row_s.name = i\n",
    "    df = df.append(row_s)\n",
    "    \n",
    "df"
   ]
  }
 ],
 "metadata": {
  "kernelspec": {
   "display_name": "Python 2",
   "language": "python",
   "name": "python2"
  },
  "language_info": {
   "codemirror_mode": {
    "name": "ipython",
    "version": 2
   },
   "file_extension": ".py",
   "mimetype": "text/x-python",
   "name": "python",
   "nbconvert_exporter": "python",
   "pygments_lexer": "ipython2",
   "version": "2.7.10"
  }
 },
 "nbformat": 4,
 "nbformat_minor": 0
}
