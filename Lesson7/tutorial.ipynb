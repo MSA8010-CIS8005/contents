{
 "cells": [
  {
   "cell_type": "markdown",
   "metadata": {},
   "source": [
    "# Uploading, Streaming, and Sampling Data"
   ]
  },
  {
   "cell_type": "markdown",
   "metadata": {},
   "source": [
    "## Uploading small amounts of data into memory"
   ]
  },
  {
   "cell_type": "code",
   "execution_count": null,
<<<<<<< Updated upstream
   "metadata": {
    "collapsed": false
   },
=======
   "metadata": {},
>>>>>>> Stashed changes
   "outputs": [],
   "source": [
    "with open(\"Colors.txt\", 'r') as open_file:\n",
    "    print 'Colors.txt content:\\n' + open_file.read()"
   ]
  },
  {
   "cell_type": "code",
   "execution_count": null,
<<<<<<< Updated upstream
   "metadata": {
    "collapsed": false
   },
=======
   "metadata": {},
>>>>>>> Stashed changes
   "outputs": [],
   "source": [
    "# same example but reading only 10 characters\n",
    "with open(\"Colors.txt\", 'r') as open_file:\n",
    "    print 'Colors.txt content:\\n' + open_file.read(11)"
   ]
  },
  {
   "cell_type": "markdown",
   "metadata": {},
   "source": [
    "## Streaming large amounts of data into memory\n",
    "\n",
    "Some datasets will be so large that you wont be able fit them entirely in memory at one time. In addition, you may find that some datasets load slowly because they reside on a remote site. Streaming answers both needs by making it possible to work with data a little at a time."
   ]
  },
  {
   "cell_type": "code",
   "execution_count": null,
<<<<<<< Updated upstream
   "metadata": {
    "collapsed": false
   },
=======
   "metadata": {},
>>>>>>> Stashed changes
   "outputs": [],
   "source": [
    "with open(\"Colors.txt\", 'r') as open_file:\n",
    "    for observation in open_file:\n",
    "        # this is Pythin 2 so end cannot be used. The , at the end means suppress newline\n",
    "        print 'Reading Data: ' + observation,"
   ]
  },
  {
   "cell_type": "markdown",
   "metadata": {},
   "source": [
    "## Sampling data\n",
    "\n",
    "Data streaming obtains all the records from a data source. You may find that you dont need all the records. You can save time and resources by simply sampling the data. "
   ]
  },
  {
   "cell_type": "markdown",
   "metadata": {},
   "source": [
    "### Fixed samples\n",
    "This example samples every other record."
   ]
  },
  {
   "cell_type": "code",
   "execution_count": null,
<<<<<<< Updated upstream
   "metadata": {
    "collapsed": false
   },
=======
   "metadata": {},
>>>>>>> Stashed changes
   "outputs": [],
   "source": [
    "''' \n",
    "enumerate is built in Python function, example:\n",
    "\n",
    "seasons = ['Spring', 'Summer', 'Fall', 'Winter']\n",
    "list(enumerate(seasons))\n",
    "[(0, 'Spring'), (1, 'Summer'), (2, 'Fall'), (3, 'Winter')]\n",
    "\n",
    "'''\n",
    "n = 3\n",
    "with open(\"Colors.txt\", 'rb') as open_file:\n",
    "    for j, observation in enumerate(open_file):\n",
    "        if j % n==0:\n",
    "            print('Reading Line: ' + str(j) + \n",
    "            ' Content: ' + observation)\n",
    "            \n",
    "         "
   ]
  },
  {
   "cell_type": "markdown",
   "metadata": {},
   "source": [
    "### Random samples\n",
    "You can perform random sampling as well. All you need to do is randomize the selector.\n"
   ]
  },
  {
   "cell_type": "code",
   "execution_count": null,
<<<<<<< Updated upstream
   "metadata": {
    "collapsed": false
   },
=======
   "metadata": {},
>>>>>>> Stashed changes
   "outputs": [],
   "source": [
    "from random import random\n",
    "sample_size = 0.25\n",
    "with open(\"Colors.txt\", 'rb') as open_file:\n",
    "    for j, observation in enumerate(open_file):\n",
    "        if random()<=sample_size:\n",
    "            print('Reading Line: ' + str(j) + \n",
    "            ' Content: ' + observation)"
   ]
  },
  {
   "cell_type": "markdown",
   "metadata": {},
   "source": [
    "# Accessing Data in Structured Flat File Form\n",
    "\n",
    "A problem with using native Python techniques is that the input isnt intelligent. For example, when a file contains a header, Python simply reads it as yet more data to process, rather than as a header."
   ]
  },
  {
   "cell_type": "markdown",
   "metadata": {},
   "source": [
    "## Reading from a text file"
   ]
  },
  {
   "cell_type": "code",
   "execution_count": null,
<<<<<<< Updated upstream
   "metadata": {
    "collapsed": false
   },
=======
   "metadata": {},
>>>>>>> Stashed changes
   "outputs": [],
   "source": [
    "import pandas as pd\n",
    "color_table = pd.io.parsers.read_table(\"Colors.txt\")\n",
    "print color_table"
   ]
  },
  {
   "cell_type": "markdown",
   "metadata": {},
   "source": [
    "## Reading CSV delimited format"
   ]
  },
  {
   "cell_type": "code",
   "execution_count": null,
<<<<<<< Updated upstream
   "metadata": {
    "collapsed": false
   },
=======
   "metadata": {},
>>>>>>> Stashed changes
   "outputs": [],
   "source": [
    "import pandas as pd\n",
    "titanic = pd.io.parsers.read_csv(\"Titanic.csv\")\n",
    "type(titanic)"
   ]
  },
  {
   "cell_type": "code",
   "execution_count": null,
<<<<<<< Updated upstream
   "metadata": {
    "collapsed": false
   },
=======
   "metadata": {},
>>>>>>> Stashed changes
   "outputs": [],
   "source": [
    "titanic"
   ]
  },
  {
   "cell_type": "code",
   "execution_count": null,
<<<<<<< Updated upstream
   "metadata": {
    "collapsed": false
   },
=======
   "metadata": {},
>>>>>>> Stashed changes
   "outputs": [],
   "source": [
    "titanic[['age']] # you can execute titanic['age'] and gives you a Series"
   ]
  },
  {
   "cell_type": "code",
   "execution_count": null,
<<<<<<< Updated upstream
   "metadata": {
    "collapsed": false
   },
   "outputs": [],
   "source": [
    "titanic[['age', 'sex']].sort('age')"
=======
   "metadata": {},
   "outputs": [],
   "source": [
    "# next statment does not work anymore\n",
    "#titanic[['age', 'sex']].sort('age')\n",
    "titanic[['age', 'sex']].sort_values(by='age')"
>>>>>>> Stashed changes
   ]
  },
  {
   "cell_type": "markdown",
   "metadata": {},
   "source": [
    "## Reading Excel and other Microsoft Office files"
   ]
  },
  {
   "cell_type": "code",
<<<<<<< Updated upstream
   "execution_count": 38,
   "metadata": {
    "collapsed": false
   },
   "outputs": [
    {
     "data": {
      "text/html": [
       "<div>\n",
       "<table border=\"1\" class=\"dataframe\">\n",
       "  <thead>\n",
       "    <tr style=\"text-align: right;\">\n",
       "      <th></th>\n",
       "      <th>Angle (Degrees)</th>\n",
       "      <th>Sine</th>\n",
       "      <th>Cosine</th>\n",
       "      <th>Tangent</th>\n",
       "    </tr>\n",
       "  </thead>\n",
       "  <tbody>\n",
       "    <tr>\n",
       "      <th>0</th>\n",
       "      <td>138.550574</td>\n",
       "      <td>0.661959</td>\n",
       "      <td>-0.749540</td>\n",
       "      <td>-0.883153</td>\n",
       "    </tr>\n",
       "    <tr>\n",
       "      <th>1</th>\n",
       "      <td>305.535745</td>\n",
       "      <td>-0.813753</td>\n",
       "      <td>0.581211</td>\n",
       "      <td>-1.400100</td>\n",
       "    </tr>\n",
       "    <tr>\n",
       "      <th>2</th>\n",
       "      <td>280.518695</td>\n",
       "      <td>-0.983195</td>\n",
       "      <td>0.182556</td>\n",
       "      <td>-5.385709</td>\n",
       "    </tr>\n",
       "    <tr>\n",
       "      <th>3</th>\n",
       "      <td>216.363795</td>\n",
       "      <td>-0.592910</td>\n",
       "      <td>-0.805269</td>\n",
       "      <td>0.736289</td>\n",
       "    </tr>\n",
       "    <tr>\n",
       "      <th>4</th>\n",
       "      <td>36.389247</td>\n",
       "      <td>0.593268</td>\n",
       "      <td>0.805005</td>\n",
       "      <td>0.736974</td>\n",
       "    </tr>\n",
       "    <tr>\n",
       "      <th>5</th>\n",
       "      <td>31.474311</td>\n",
       "      <td>0.522116</td>\n",
       "      <td>0.852874</td>\n",
       "      <td>0.612184</td>\n",
       "    </tr>\n",
       "    <tr>\n",
       "      <th>6</th>\n",
       "      <td>120.121669</td>\n",
       "      <td>0.864962</td>\n",
       "      <td>-0.501838</td>\n",
       "      <td>-1.723588</td>\n",
       "    </tr>\n",
       "    <tr>\n",
       "      <th>7</th>\n",
       "      <td>293.947055</td>\n",
       "      <td>-0.913921</td>\n",
       "      <td>0.405892</td>\n",
       "      <td>-2.251634</td>\n",
       "    </tr>\n",
       "    <tr>\n",
       "      <th>8</th>\n",
       "      <td>179.882632</td>\n",
       "      <td>0.002048</td>\n",
       "      <td>-0.999998</td>\n",
       "      <td>-0.002048</td>\n",
       "    </tr>\n",
       "    <tr>\n",
       "      <th>9</th>\n",
       "      <td>120.927562</td>\n",
       "      <td>0.857818</td>\n",
       "      <td>-0.513954</td>\n",
       "      <td>-1.669056</td>\n",
       "    </tr>\n",
       "    <tr>\n",
       "      <th>10</th>\n",
       "      <td>71.349485</td>\n",
       "      <td>0.947487</td>\n",
       "      <td>0.319795</td>\n",
       "      <td>2.962796</td>\n",
       "    </tr>\n",
       "    <tr>\n",
       "      <th>11</th>\n",
       "      <td>241.971082</td>\n",
       "      <td>-0.882711</td>\n",
       "      <td>-0.469917</td>\n",
       "      <td>1.878439</td>\n",
       "    </tr>\n",
       "    <tr>\n",
       "      <th>12</th>\n",
       "      <td>297.208817</td>\n",
       "      <td>-0.889346</td>\n",
       "      <td>0.457235</td>\n",
       "      <td>-1.945053</td>\n",
       "    </tr>\n",
       "    <tr>\n",
       "      <th>13</th>\n",
       "      <td>142.004551</td>\n",
       "      <td>0.615599</td>\n",
       "      <td>-0.788060</td>\n",
       "      <td>-0.781158</td>\n",
       "    </tr>\n",
       "    <tr>\n",
       "      <th>14</th>\n",
       "      <td>173.770696</td>\n",
       "      <td>0.108508</td>\n",
       "      <td>-0.994096</td>\n",
       "      <td>-0.109152</td>\n",
       "    </tr>\n",
       "    <tr>\n",
       "      <th>15</th>\n",
       "      <td>229.232002</td>\n",
       "      <td>-0.757360</td>\n",
       "      <td>-0.652998</td>\n",
       "      <td>1.159820</td>\n",
       "    </tr>\n",
       "    <tr>\n",
       "      <th>16</th>\n",
       "      <td>67.926976</td>\n",
       "      <td>0.926706</td>\n",
       "      <td>0.375788</td>\n",
       "      <td>2.466033</td>\n",
       "    </tr>\n",
       "    <tr>\n",
       "      <th>17</th>\n",
       "      <td>261.866575</td>\n",
       "      <td>-0.989941</td>\n",
       "      <td>-0.141479</td>\n",
       "      <td>6.997102</td>\n",
       "    </tr>\n",
       "    <tr>\n",
       "      <th>18</th>\n",
       "      <td>59.185450</td>\n",
       "      <td>0.858830</td>\n",
       "      <td>0.512261</td>\n",
       "      <td>1.676547</td>\n",
       "    </tr>\n",
       "    <tr>\n",
       "      <th>19</th>\n",
       "      <td>98.029275</td>\n",
       "      <td>0.990197</td>\n",
       "      <td>-0.139679</td>\n",
       "      <td>-7.089086</td>\n",
       "    </tr>\n",
       "    <tr>\n",
       "      <th>20</th>\n",
       "      <td>9.336088</td>\n",
       "      <td>0.162225</td>\n",
       "      <td>0.986754</td>\n",
       "      <td>0.164403</td>\n",
       "    </tr>\n",
       "    <tr>\n",
       "      <th>21</th>\n",
       "      <td>90.746371</td>\n",
       "      <td>0.999915</td>\n",
       "      <td>-0.013026</td>\n",
       "      <td>-76.761483</td>\n",
       "    </tr>\n",
       "    <tr>\n",
       "      <th>22</th>\n",
       "      <td>217.798087</td>\n",
       "      <td>-0.612881</td>\n",
       "      <td>-0.790175</td>\n",
       "      <td>0.775626</td>\n",
       "    </tr>\n",
       "    <tr>\n",
       "      <th>23</th>\n",
       "      <td>58.616049</td>\n",
       "      <td>0.853697</td>\n",
       "      <td>0.520771</td>\n",
       "      <td>1.639295</td>\n",
       "    </tr>\n",
       "    <tr>\n",
       "      <th>24</th>\n",
       "      <td>197.196367</td>\n",
       "      <td>-0.295647</td>\n",
       "      <td>-0.955297</td>\n",
       "      <td>0.309482</td>\n",
       "    </tr>\n",
       "    <tr>\n",
       "      <th>25</th>\n",
       "      <td>331.194892</td>\n",
       "      <td>-0.481832</td>\n",
       "      <td>0.876264</td>\n",
       "      <td>-0.549871</td>\n",
       "    </tr>\n",
       "    <tr>\n",
       "      <th>26</th>\n",
       "      <td>6.509875</td>\n",
       "      <td>0.113374</td>\n",
       "      <td>0.993552</td>\n",
       "      <td>0.114110</td>\n",
       "    </tr>\n",
       "    <tr>\n",
       "      <th>27</th>\n",
       "      <td>266.390707</td>\n",
       "      <td>-0.998017</td>\n",
       "      <td>-0.062952</td>\n",
       "      <td>15.853513</td>\n",
       "    </tr>\n",
       "    <tr>\n",
       "      <th>28</th>\n",
       "      <td>230.323819</td>\n",
       "      <td>-0.769665</td>\n",
       "      <td>-0.638448</td>\n",
       "      <td>1.205525</td>\n",
       "    </tr>\n",
       "    <tr>\n",
       "      <th>29</th>\n",
       "      <td>314.224257</td>\n",
       "      <td>-0.716615</td>\n",
       "      <td>0.697469</td>\n",
       "      <td>-1.027452</td>\n",
       "    </tr>\n",
       "    <tr>\n",
       "      <th>...</th>\n",
       "      <td>...</td>\n",
       "      <td>...</td>\n",
       "      <td>...</td>\n",
       "      <td>...</td>\n",
       "    </tr>\n",
       "    <tr>\n",
       "      <th>42</th>\n",
       "      <td>324.080564</td>\n",
       "      <td>-0.586647</td>\n",
       "      <td>0.809843</td>\n",
       "      <td>-0.724396</td>\n",
       "    </tr>\n",
       "    <tr>\n",
       "      <th>43</th>\n",
       "      <td>140.893727</td>\n",
       "      <td>0.630761</td>\n",
       "      <td>-0.775977</td>\n",
       "      <td>-0.812860</td>\n",
       "    </tr>\n",
       "    <tr>\n",
       "      <th>44</th>\n",
       "      <td>128.226889</td>\n",
       "      <td>0.785567</td>\n",
       "      <td>-0.618777</td>\n",
       "      <td>-1.269547</td>\n",
       "    </tr>\n",
       "    <tr>\n",
       "      <th>45</th>\n",
       "      <td>82.770054</td>\n",
       "      <td>0.992049</td>\n",
       "      <td>0.125852</td>\n",
       "      <td>7.882680</td>\n",
       "    </tr>\n",
       "    <tr>\n",
       "      <th>46</th>\n",
       "      <td>303.112455</td>\n",
       "      <td>-0.837600</td>\n",
       "      <td>0.546284</td>\n",
       "      <td>-1.533268</td>\n",
       "    </tr>\n",
       "    <tr>\n",
       "      <th>47</th>\n",
       "      <td>164.824273</td>\n",
       "      <td>0.261780</td>\n",
       "      <td>-0.965127</td>\n",
       "      <td>-0.271239</td>\n",
       "    </tr>\n",
       "    <tr>\n",
       "      <th>48</th>\n",
       "      <td>218.829827</td>\n",
       "      <td>-0.627009</td>\n",
       "      <td>-0.779012</td>\n",
       "      <td>0.804878</td>\n",
       "    </tr>\n",
       "    <tr>\n",
       "      <th>49</th>\n",
       "      <td>28.649593</td>\n",
       "      <td>0.479452</td>\n",
       "      <td>0.877568</td>\n",
       "      <td>0.546341</td>\n",
       "    </tr>\n",
       "    <tr>\n",
       "      <th>50</th>\n",
       "      <td>349.336296</td>\n",
       "      <td>-0.185044</td>\n",
       "      <td>0.982730</td>\n",
       "      <td>-0.188296</td>\n",
       "    </tr>\n",
       "    <tr>\n",
       "      <th>51</th>\n",
       "      <td>84.889713</td>\n",
       "      <td>0.996025</td>\n",
       "      <td>0.089073</td>\n",
       "      <td>11.182105</td>\n",
       "    </tr>\n",
       "    <tr>\n",
       "      <th>52</th>\n",
       "      <td>197.935862</td>\n",
       "      <td>-0.307952</td>\n",
       "      <td>-0.951402</td>\n",
       "      <td>0.323683</td>\n",
       "    </tr>\n",
       "    <tr>\n",
       "      <th>53</th>\n",
       "      <td>303.049380</td>\n",
       "      <td>-0.838201</td>\n",
       "      <td>0.545362</td>\n",
       "      <td>-1.536963</td>\n",
       "    </tr>\n",
       "    <tr>\n",
       "      <th>54</th>\n",
       "      <td>183.737235</td>\n",
       "      <td>-0.065181</td>\n",
       "      <td>-0.997873</td>\n",
       "      <td>0.065320</td>\n",
       "    </tr>\n",
       "    <tr>\n",
       "      <th>55</th>\n",
       "      <td>346.153919</td>\n",
       "      <td>-0.239314</td>\n",
       "      <td>0.970942</td>\n",
       "      <td>-0.246477</td>\n",
       "    </tr>\n",
       "    <tr>\n",
       "      <th>56</th>\n",
       "      <td>218.822745</td>\n",
       "      <td>-0.626913</td>\n",
       "      <td>-0.779089</td>\n",
       "      <td>0.804674</td>\n",
       "    </tr>\n",
       "    <tr>\n",
       "      <th>57</th>\n",
       "      <td>243.969070</td>\n",
       "      <td>-0.898557</td>\n",
       "      <td>-0.438856</td>\n",
       "      <td>2.047498</td>\n",
       "    </tr>\n",
       "    <tr>\n",
       "      <th>58</th>\n",
       "      <td>115.600771</td>\n",
       "      <td>0.901827</td>\n",
       "      <td>-0.432098</td>\n",
       "      <td>-2.087089</td>\n",
       "    </tr>\n",
       "    <tr>\n",
       "      <th>59</th>\n",
       "      <td>125.906606</td>\n",
       "      <td>0.809974</td>\n",
       "      <td>-0.586466</td>\n",
       "      <td>-1.381111</td>\n",
       "    </tr>\n",
       "    <tr>\n",
       "      <th>60</th>\n",
       "      <td>200.094363</td>\n",
       "      <td>-0.343567</td>\n",
       "      <td>-0.939128</td>\n",
       "      <td>0.365836</td>\n",
       "    </tr>\n",
       "    <tr>\n",
       "      <th>61</th>\n",
       "      <td>337.860807</td>\n",
       "      <td>-0.376858</td>\n",
       "      <td>0.926271</td>\n",
       "      <td>-0.406855</td>\n",
       "    </tr>\n",
       "    <tr>\n",
       "      <th>62</th>\n",
       "      <td>168.176975</td>\n",
       "      <td>0.204889</td>\n",
       "      <td>-0.978785</td>\n",
       "      <td>-0.209330</td>\n",
       "    </tr>\n",
       "    <tr>\n",
       "      <th>63</th>\n",
       "      <td>305.708155</td>\n",
       "      <td>-0.812000</td>\n",
       "      <td>0.583657</td>\n",
       "      <td>-1.391229</td>\n",
       "    </tr>\n",
       "    <tr>\n",
       "      <th>64</th>\n",
       "      <td>162.656078</td>\n",
       "      <td>0.298107</td>\n",
       "      <td>-0.954533</td>\n",
       "      <td>-0.312306</td>\n",
       "    </tr>\n",
       "    <tr>\n",
       "      <th>65</th>\n",
       "      <td>219.007899</td>\n",
       "      <td>-0.629428</td>\n",
       "      <td>-0.777059</td>\n",
       "      <td>0.810012</td>\n",
       "    </tr>\n",
       "    <tr>\n",
       "      <th>66</th>\n",
       "      <td>222.830465</td>\n",
       "      <td>-0.679831</td>\n",
       "      <td>-0.733368</td>\n",
       "      <td>0.926998</td>\n",
       "    </tr>\n",
       "    <tr>\n",
       "      <th>67</th>\n",
       "      <td>324.199562</td>\n",
       "      <td>-0.584964</td>\n",
       "      <td>0.811059</td>\n",
       "      <td>-0.721234</td>\n",
       "    </tr>\n",
       "    <tr>\n",
       "      <th>68</th>\n",
       "      <td>187.948172</td>\n",
       "      <td>-0.138277</td>\n",
       "      <td>-0.990394</td>\n",
       "      <td>0.139619</td>\n",
       "    </tr>\n",
       "    <tr>\n",
       "      <th>69</th>\n",
       "      <td>270.678249</td>\n",
       "      <td>-0.999930</td>\n",
       "      <td>0.011837</td>\n",
       "      <td>-84.472139</td>\n",
       "    </tr>\n",
       "    <tr>\n",
       "      <th>70</th>\n",
       "      <td>270.779159</td>\n",
       "      <td>-0.999908</td>\n",
       "      <td>0.013598</td>\n",
       "      <td>-73.530885</td>\n",
       "    </tr>\n",
       "    <tr>\n",
       "      <th>71</th>\n",
       "      <td>200.213513</td>\n",
       "      <td>-0.345520</td>\n",
       "      <td>-0.938412</td>\n",
       "      <td>0.368196</td>\n",
       "    </tr>\n",
       "  </tbody>\n",
       "</table>\n",
       "<p>72 rows × 4 columns</p>\n",
       "</div>"
      ],
      "text/plain": [
       "    Angle (Degrees)      Sine    Cosine    Tangent\n",
       "0        138.550574  0.661959 -0.749540  -0.883153\n",
       "1        305.535745 -0.813753  0.581211  -1.400100\n",
       "2        280.518695 -0.983195  0.182556  -5.385709\n",
       "3        216.363795 -0.592910 -0.805269   0.736289\n",
       "4         36.389247  0.593268  0.805005   0.736974\n",
       "5         31.474311  0.522116  0.852874   0.612184\n",
       "6        120.121669  0.864962 -0.501838  -1.723588\n",
       "7        293.947055 -0.913921  0.405892  -2.251634\n",
       "8        179.882632  0.002048 -0.999998  -0.002048\n",
       "9        120.927562  0.857818 -0.513954  -1.669056\n",
       "10        71.349485  0.947487  0.319795   2.962796\n",
       "11       241.971082 -0.882711 -0.469917   1.878439\n",
       "12       297.208817 -0.889346  0.457235  -1.945053\n",
       "13       142.004551  0.615599 -0.788060  -0.781158\n",
       "14       173.770696  0.108508 -0.994096  -0.109152\n",
       "15       229.232002 -0.757360 -0.652998   1.159820\n",
       "16        67.926976  0.926706  0.375788   2.466033\n",
       "17       261.866575 -0.989941 -0.141479   6.997102\n",
       "18        59.185450  0.858830  0.512261   1.676547\n",
       "19        98.029275  0.990197 -0.139679  -7.089086\n",
       "20         9.336088  0.162225  0.986754   0.164403\n",
       "21        90.746371  0.999915 -0.013026 -76.761483\n",
       "22       217.798087 -0.612881 -0.790175   0.775626\n",
       "23        58.616049  0.853697  0.520771   1.639295\n",
       "24       197.196367 -0.295647 -0.955297   0.309482\n",
       "25       331.194892 -0.481832  0.876264  -0.549871\n",
       "26         6.509875  0.113374  0.993552   0.114110\n",
       "27       266.390707 -0.998017 -0.062952  15.853513\n",
       "28       230.323819 -0.769665 -0.638448   1.205525\n",
       "29       314.224257 -0.716615  0.697469  -1.027452\n",
       "..              ...       ...       ...        ...\n",
       "42       324.080564 -0.586647  0.809843  -0.724396\n",
       "43       140.893727  0.630761 -0.775977  -0.812860\n",
       "44       128.226889  0.785567 -0.618777  -1.269547\n",
       "45        82.770054  0.992049  0.125852   7.882680\n",
       "46       303.112455 -0.837600  0.546284  -1.533268\n",
       "47       164.824273  0.261780 -0.965127  -0.271239\n",
       "48       218.829827 -0.627009 -0.779012   0.804878\n",
       "49        28.649593  0.479452  0.877568   0.546341\n",
       "50       349.336296 -0.185044  0.982730  -0.188296\n",
       "51        84.889713  0.996025  0.089073  11.182105\n",
       "52       197.935862 -0.307952 -0.951402   0.323683\n",
       "53       303.049380 -0.838201  0.545362  -1.536963\n",
       "54       183.737235 -0.065181 -0.997873   0.065320\n",
       "55       346.153919 -0.239314  0.970942  -0.246477\n",
       "56       218.822745 -0.626913 -0.779089   0.804674\n",
       "57       243.969070 -0.898557 -0.438856   2.047498\n",
       "58       115.600771  0.901827 -0.432098  -2.087089\n",
       "59       125.906606  0.809974 -0.586466  -1.381111\n",
       "60       200.094363 -0.343567 -0.939128   0.365836\n",
       "61       337.860807 -0.376858  0.926271  -0.406855\n",
       "62       168.176975  0.204889 -0.978785  -0.209330\n",
       "63       305.708155 -0.812000  0.583657  -1.391229\n",
       "64       162.656078  0.298107 -0.954533  -0.312306\n",
       "65       219.007899 -0.629428 -0.777059   0.810012\n",
       "66       222.830465 -0.679831 -0.733368   0.926998\n",
       "67       324.199562 -0.584964  0.811059  -0.721234\n",
       "68       187.948172 -0.138277 -0.990394   0.139619\n",
       "69       270.678249 -0.999930  0.011837 -84.472139\n",
       "70       270.779159 -0.999908  0.013598 -73.530885\n",
       "71       200.213513 -0.345520 -0.938412   0.368196\n",
       "\n",
       "[72 rows x 4 columns]"
      ]
     },
     "execution_count": 38,
     "metadata": {},
     "output_type": "execute_result"
    }
   ],
=======
   "execution_count": null,
   "metadata": {},
   "outputs": [],
>>>>>>> Stashed changes
   "source": [
    "import pandas as pd\n",
    "xls = pd.ExcelFile(\"Values.xls\")\n",
    "# The index column is the one that the worksheet uses to index the records. Using value of None means \n",
    "# that panda should generate an index for you.\n",
    "trig_values = xls.parse('Sheet1', index_col=None, na_values=['NA'])\n",
    "\n",
    "# you can do it in one shot as follows:\n",
    "#trig_values = pd.read_excel(\"Values.xls\", 'Sheet1', na_values=['NA'])\n",
    "trig_values"
   ]
  },
  {
   "cell_type": "markdown",
   "metadata": {},
   "source": [
    "# Sending Data in Unstructured File Form\n",
    "\n",
    "Unstructured data files consist of series of bits. The file doesnt separate the bits from each other in any way. You cannnot simply look into the file and see any structure because there isnt any to see. Unstructured file formats rely on the file user to know how to interpret the data. For example, each pixel of a picture file could consist of three 32-bit fields. Knowing that each field is 32-bits is up to you."
   ]
  },
  {
   "cell_type": "markdown",
   "metadata": {},
   "source": [
    "## Rendering the image"
   ]
  },
  {
   "cell_type": "code",
   "execution_count": null,
<<<<<<< Updated upstream
   "metadata": {
    "collapsed": false
   },
=======
   "metadata": {},
>>>>>>> Stashed changes
   "outputs": [],
   "source": [
    "% matplotlib inline\n",
    "# these are coming from scikit modules\n",
    "from skimage.io import imread\n",
    "from skimage.transform import resize \n",
    "\n",
    "from matplotlib import pyplot as plt\n",
    "import matplotlib.cm as cm\n",
    "\n",
    "example_file = (\"http://upload.wikimedia.org/\" +\n",
    "    \"wikipedia/commons/7/7d/Dog_face.png\")\n",
    "image = imread(example_file)\n",
    "plt.imshow(image)\n",
    "plt.show()"
   ]
  },
  {
   "cell_type": "markdown",
   "metadata": {},
   "source": [
    "## Displaying the image information"
   ]
  },
  {
   "cell_type": "code",
   "execution_count": null,
   "metadata": {
<<<<<<< Updated upstream
    "collapsed": false
=======
    "collapsed": true
>>>>>>> Stashed changes
   },
   "outputs": [],
   "source": [
    "# 90 x 90 and 3 for colors\n",
    "print(\"data type: %s, shape: %s\" % \n",
    "      (type(image), image.shape))"
   ]
  },
  {
   "cell_type": "markdown",
   "metadata": {},
   "source": [
    "## Cropping the image"
   ]
  },
  {
   "cell_type": "code",
   "execution_count": null,
   "metadata": {
<<<<<<< Updated upstream
    "collapsed": false
=======
    "collapsed": true
>>>>>>> Stashed changes
   },
   "outputs": [],
   "source": [
    "image2 = image[5:70,0:70]\n",
    "plt.imshow(image2)\n",
    "plt.show()"
   ]
  },
  {
   "cell_type": "markdown",
   "metadata": {},
   "source": [
    "## Resizing the image"
   ]
  },
  {
   "cell_type": "code",
   "execution_count": null,
   "metadata": {
<<<<<<< Updated upstream
    "collapsed": false
=======
    "collapsed": true
>>>>>>> Stashed changes
   },
   "outputs": [],
   "source": [
    "image3 = resize(image2, (30, 30))\n",
    "plt.imshow(image3)\n",
    "print(\"data type: %s, shape: %s\" % \n",
    "      (type(image3), image3.shape))"
   ]
  },
  {
   "cell_type": "markdown",
   "metadata": {},
   "source": [
    "## Flatening the image"
   ]
  },
  {
   "cell_type": "code",
   "execution_count": null,
   "metadata": {
<<<<<<< Updated upstream
    "collapsed": false
=======
    "collapsed": true
>>>>>>> Stashed changes
   },
   "outputs": [],
   "source": [
    "image_row = image3.flatten()\n",
    "print(\"data type: %s, shape: %s\" % \n",
    "      (type(image_row), image_row.shape))"
   ]
  },
  {
   "cell_type": "markdown",
   "metadata": {},
   "source": [
    "# Accessing Data from the Web\n",
    "\n",
    "One of the most beneficial data access techniques to know when working with web data is accessing XML. All sorts of content types rely on XML, even some webpages."
   ]
  },
  {
   "cell_type": "code",
   "execution_count": null,
<<<<<<< Updated upstream
   "metadata": {
    "collapsed": false
   },
=======
   "metadata": {},
>>>>>>> Stashed changes
   "outputs": [],
   "source": [
    "from lxml import objectify\n",
    "import pandas as pd\n",
    "\n",
    "xml = objectify.parse(open('XMLData.xml'))\n",
    "root = xml.getroot()\n",
    "df = pd.DataFrame(columns=('Number', 'String', 'Boolean'))\n",
    "\n",
    "for i in range(0,4):\n",
    "    obj = root.getchildren()[i].getchildren()\n",
    "    # zip makes a tuple list of tuples like [('Number', '1'), ('String', 'First'), ('Boolean', 'True')]\n",
    "    # dict makes a dictionary of those tuples\n",
    "    row = dict(zip(['Number', 'String', 'Boolean'], \n",
    "                   [obj[0].text, obj[1].text, \n",
    "                    obj[2].text]))\n",
    "    \n",
    "    row_s = pd.Series(row)\n",
    "    #print row_s \n",
    "    # name for each row (index name)\n",
    "    row_s.name = i\n",
    "    df = df.append(row_s)\n",
    "    \n",
    "df"
   ]
  }
 ],
 "metadata": {
  "kernelspec": {
   "display_name": "Python 2",
   "language": "python",
   "name": "python2"
  },
  "language_info": {
   "codemirror_mode": {
    "name": "ipython",
    "version": 2
   },
   "file_extension": ".py",
   "mimetype": "text/x-python",
   "name": "python",
   "nbconvert_exporter": "python",
   "pygments_lexer": "ipython2",
<<<<<<< Updated upstream
   "version": "2.7.12"
  }
 },
 "nbformat": 4,
 "nbformat_minor": 0
=======
   "version": "2.7.13"
  }
 },
 "nbformat": 4,
 "nbformat_minor": 1
>>>>>>> Stashed changes
}
