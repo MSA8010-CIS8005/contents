{
 "cells": [
  {
   "cell_type": "code",
   "execution_count": 3,
   "metadata": {
    "collapsed": false
   },
   "outputs": [
    {
     "name": "stdout",
     "output_type": "stream",
     "text": [
      "Airtime Mux version 2.0.4.1\r\n",
      "Copyright (c) 2002-06 Airtime Technologies, Inc\n"
     ]
    },
    {
     "data": {
      "text/plain": [
       "<bound method _socketobject.close of <socket._socketobject object at 0x1048da910>>"
      ]
     },
     "execution_count": 3,
     "metadata": {},
     "output_type": "execute_result"
    }
   ],
   "source": [
    "import socket               # Import socket module\n",
    "\n",
    "s = socket.socket()         # Create a socket object\n",
    "#host = socket.gethostname() # Get local machine name\n",
    "host = \"10.11.4.10\"\n",
    "port = 5481                # Reserve a port for your service.\n",
    "\n",
    "s.connect((host, port))\n",
    "s.send('hostinfo')\n",
    "print s.recv(1024)\n",
    "s.close   "
   ]
  },
  {
   "cell_type": "code",
   "execution_count": 10,
   "metadata": {
    "collapsed": false
   },
   "outputs": [
    {
     "name": "stdout",
     "output_type": "stream",
     "text": [
      "h\n"
     ]
    }
   ],
   "source": [
    "my_bytes = bytearray()\n",
    "\n",
    "my_str = \"hello world\"\n",
    "bytes = str.encode(my_str)\n",
    "print str.encode(\"h\")\n",
    "#type(bytes) # insures its bytes\n",
    "#my_decoded_str = str.decode(bytes)\n",
    "#type(my_decoded_str) # insures its string "
   ]
  },
  {
   "cell_type": "code",
   "execution_count": 35,
   "metadata": {
    "collapsed": false
   },
   "outputs": [
    {
     "name": "stdout",
     "output_type": "stream",
     "text": [
      "\u0000h\u0014\u0012\b\u0011Y7��\u0011�\u0000\u0002����US00118820141208115937000200000100000001000000000000000009999912726968990840000000450010\n",
      "\u0000I\u0014\u0012\b\u0011Y7��\u0011�\u0000\u0002����US0011882014120811593700020000010000000008400000000000012\n"
     ]
    },
    {
     "data": {
      "text/plain": [
       "<bound method _socketobject.close of <socket._socketobject object at 0x1064b8520>>"
      ]
     },
     "execution_count": 35,
     "metadata": {},
     "output_type": "execute_result"
    }
   ],
   "source": [
    "import socket             \n",
    "'''\n",
    "request = bytearray(\".h0000000000000000\" + \\\n",
    "        \"US0011882014\" + \\\n",
    "        \"1208115937000200\" + \\\n",
    "        \"0001000000010000\" + \\\n",
    "        \"0000000000000999\" + \\\n",
    "        \"9912726968990840\" + \\\n",
    "        \"000000450010\") '''\n",
    "\n",
    "request = bytearray(\".h0000000000000000\" + \\\n",
    "        \"US0011882014\" + \\\n",
    "        \"1208115937000200\" + \\\n",
    "        \"0001000000010000\" + \\\n",
    "        \"0000000000000000\" + \\\n",
    "        \"0014558020230840\" + \\\n",
    "        \"000000450010\")\n",
    "    \n",
    "\n",
    "request[0] = 0x00\n",
    "request[1] = 0x68\n",
    "request[2] = 0x14\n",
    "request[3] = 0x12\n",
    "request[4] = 0x08\n",
    "request[5] = 0x11\n",
    "request[6] = 0x59\n",
    "request[7] = 0x37\n",
    "request[8] = 0xe4\n",
    "request[9] = 0xe2\n",
    "request[10] = 0x11\n",
    "request[11] = 0x88\n",
    "request[12] = 0x00\n",
    "request[13] = 0x02\n",
    "request[14] = 0xd7\n",
    "request[15] = 0xe2\n",
    "request[16] = 0xd7\n",
    "request[17] = 0xd9\n",
    "\n",
    "print request\n",
    "\n",
    "import socket               # Import socket module\n",
    "\n",
    "s = socket.socket()         # Create a socket object\n",
    "#host = socket.gethostname() # Get local machine name\n",
    "host = \"10.11.4.11\"\n",
    "port = 5401                # Reserve a port for your service.\n",
    "\n",
    "s.connect((host, port))\n",
    "s.send(request)\n",
    "print s.recv(1024)\n",
    "s.close   "
   ]
  },
  {
   "cell_type": "code",
   "execution_count": null,
   "metadata": {
    "collapsed": true
   },
   "outputs": [],
   "source": []
  },
  {
   "cell_type": "code",
   "execution_count": null,
   "metadata": {
    "collapsed": true
   },
   "outputs": [],
   "source": []
  }
 ],
 "metadata": {
  "kernelspec": {
   "display_name": "Python 2",
   "language": "python",
   "name": "python2"
  },
  "language_info": {
   "codemirror_mode": {
    "name": "ipython",
    "version": 2
   },
   "file_extension": ".py",
   "mimetype": "text/x-python",
   "name": "python",
   "nbconvert_exporter": "python",
   "pygments_lexer": "ipython2",
   "version": "2.7.10"
  }
 },
 "nbformat": 4,
 "nbformat_minor": 0
}
