{
 "cells": [
  {
   "cell_type": "code",
   "execution_count": null,
   "metadata": {
    "collapsed": false
   },
   "outputs": [],
   "source": [
    "from nltk.classify import NaiveBayesClassifier\n",
    "from sklearn.feature_extraction.text import TfidfVectorizer\n",
    "from sklearn.linear_model import LogisticRegression\n",
    "\n",
    "positive_tweets = [('Flowers smell good', 'positive'),\n",
    "                   ('Birds are beautiful', 'positive'),\n",
    "                   ('This is going to be a great day', 'positive'),\n",
    "                   ('I love my bff', 'positive'),\n",
    "                   ('This restaurant has great food', 'positive')]\n",
    "\n",
    "negative_tweets = [('Onions smell bad', 'negative'),\n",
    "                   ('Garbage is ugly', 'negative'),\n",
    "                   ('Nothing has gone right today', 'negative'),\n",
    "                   ('I hate my boss', 'negative'),\n",
    "                   ('This restaurant has terrible food', 'negative')]\n",
    "\n",
    "test_tweets = [('Singing makes me happy', 'positive'),\n",
    "               ('Blue skies are nice', 'positive'),\n",
    "               ('I love spring', 'positive'),\n",
    "               ('Coughing makes me sad', 'negative'),\n",
    "               ('Cloudy skies are depressing', 'negative'),\n",
    "               ('I hate winter', 'negative')]\n",
    "\n",
    "X_train, y_train = zip(*positive_tweets+negative_tweets)\n",
    "\n",
    "print X_train\n",
    "print y_train\n",
    "\n",
    "X_test, y_test = zip(*test_tweets)\n",
    "\n",
    "print X_test\n",
    "print y_test\n",
    "\n",
    "tfidfvec = TfidfVectorizer(lowercase=True)\n",
    "vectorized = tfidfvec.fit_transform(X_train)\n",
    "\n",
    "sentiment_classifier = LogisticRegression()\n",
    "sentiment_classifier.fit(vectorized,y_train)\n",
    "\n",
    "vectorized_test = tfidfvec.transform(X_test)\n",
    "prediction = list(sentiment_classifier.predict(vectorized_test))\n",
    "probabilities = list(sentiment_classifier.predict_proba(vectorized_test)[:,1])\n",
    "\n",
    "print 'correct labels : %s %s %s %s %s %s' % y_test\n",
    "print 'prediction     : %s %s %s %s %s %s' % tuple(prediction)\n",
    "print 'proba positive : %0.6f %0.6f %0.6f %0.6f %0.6f %0.6f' % tuple(probabilities)"
   ]
  }
 ],
 "metadata": {
  "kernelspec": {
   "display_name": "Python 2",
   "language": "python",
   "name": "python2"
  },
  "language_info": {
   "codemirror_mode": {
    "name": "ipython",
    "version": 2
   },
   "file_extension": ".py",
   "mimetype": "text/x-python",
   "name": "python",
   "nbconvert_exporter": "python",
   "pygments_lexer": "ipython2",
   "version": "2.7.10"
  }
 },
 "nbformat": 4,
 "nbformat_minor": 0
}
