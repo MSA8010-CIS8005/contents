{
 "cells": [
  {
   "cell_type": "markdown",
   "metadata": {
    "collapsed": false
   },
   "source": [
    "# Storing Information in Databases"
   ]
  },
  {
   "cell_type": "markdown",
   "metadata": {
    "collapsed": true
   },
   "source": [
    "### Why use Databases?"
   ]
  },
  {
   "cell_type": "markdown",
   "metadata": {},
   "source": [
    "A) Databases provide a special way to store data that involves saving granular pieces of information that can be recalled later. <br /><br />\n",
    "B) Databases allow you to manipulate data without loading the entire dataset into memory. While JSON, spreadsheet etc have this limitation. <br /><br />\n",
    "C) Database makes it easier to reuse data. <br /><br />\n",
    "D) In general, database complies with ACID (Atomicity, Consistency, Isolation, Durability) <br />\n"
   ]
  },
  {
   "cell_type": "markdown",
   "metadata": {},
   "source": [
    "### Talking to Databases with SQL"
   ]
  },
  {
   "cell_type": "markdown",
   "metadata": {},
   "source": [
    "SQL (Structured Query Language) is the language used to talk to databases. <br />\n",
    "<b>DONT PANIC ABOUT HAVING TO LEARN YET ANOTHER PROGRAMMING LANGUAGE</b><br />\n",
    "We will be using a limited subset of what SQL has to offer. So this wont be like learning a new language."
   ]
  },
  {
   "cell_type": "markdown",
   "metadata": {},
   "source": [
    "SQL is written in statements. These statements tell the database what you want to do and what data you want to work with. The database then takes the data, does what you want, and either saves your requested change or gives you the data."
   ]
  },
  {
   "cell_type": "markdown",
   "metadata": {},
   "source": [
    "In relational databases, data are stored in different tables or tuples. You can imagine a table like an excel spread sheet. There are attributes or fields that define column names and data types and the rows are the actual data."
   ]
  },
  {
   "cell_type": "markdown",
   "metadata": {},
   "source": [
    "Each database vendor offer its own version of SQL that contains subtle differences. Some have extra functionality. Some have more tools to deal with dates or time. A few have slightly different format. Once you learn one it is fairly easy to read another database's SQL statements."
   ]
  },
  {
   "cell_type": "markdown",
   "metadata": {},
   "source": [
    "There are many kinds of databases. Some are free, and some are so expensive that they are rarely seen outside of large companies. Some require a complex setup, wherras others are extremely easy to install. For our purposes, we will be using a lightweight and free database called SQLite(pronounced S-Q-L lite)"
   ]
  },
  {
   "cell_type": "markdown",
   "metadata": {},
   "source": [
    "### SQLite on a Mac"
   ]
  },
  {
   "cell_type": "markdown",
   "metadata": {},
   "source": [
    "If you using a Mac, you should already have SQLite on your system. Open a terminal and type sqlite3. You should see something close to the following:<br /><br />\n",
    "SQLite version 3.8.11 2015-07-27 13:49:41<br />\n",
    "Enter \".help\" for usage hints.<br />\n",
    "Connected to a transient in-memory database.<br />\n",
    "Use \".open FILENAME\" to reopen on a persistent database.<br />\n",
    "sqlite><br />"
   ]
  },
  {
   "cell_type": "markdown",
   "metadata": {},
   "source": [
    "Type '.exit' to get out of this dialog."
   ]
  },
  {
   "cell_type": "markdown",
   "metadata": {},
   "source": [
    "### Installing SQLite on Windows"
   ]
  },
  {
   "cell_type": "markdown",
   "metadata": {},
   "source": [
    "SQLite does not come installed on Windows, so you will have to install it yourself. <br />\n",
    "First go to SQLite website download page (http://www.sqlite.org/download.html) <br />\n",
    "There, you will find many links to files for a variety of operating systems. You are going to need the one under precompiled binaries for Windows. This is the one for a command-line shell, not the one that contains DLLs or is an analyzer. <br /><br />\n",
    "Create a folder named <b>sqllite</b>(or whatever you like) and unzip the file you downloaded there. You should see <b>sqlite3.exe</b> there. <br />\n",
    "Create a folder named <b>sqllite_databases</b>(or whatever you like) and this folder is the folder for having all your databases.<br /><br />\n",
    "Open a command-line and run the sqlite3.exe and that gives you console for sqlite. (You can put the path in PATH envromental variable so you can run it from anywhere in command-line)<br />\n",
    "Few command to start with:<br />\n",
    ".exit (exit the shell or console)<br />\n",
    ".open (creates a database or opens an existing one)<br />\n",
    "i.e.<br />\n",
    "<b>.open testdb.sqlite </b> (creates a database in the directory where you running this command)<br />\n",
    "<b>.open ..\\sqlite-databases\\testdb.sqlite </b>(creates the database in folder we created for our databases)<br />\n",
    "<b>.databases </b>(shows your database info)<br />\n",
    "<b>.tables </b>(shows you all yables in the database)<br />\n",
    "<b>.help </b>(gives you help on different commands)<br />\n",
    "\n",
    "\n",
    "\n"
   ]
  },
  {
   "cell_type": "markdown",
   "metadata": {},
   "source": [
    "### SQLite GUI Client"
   ]
  },
  {
   "cell_type": "markdown",
   "metadata": {},
   "source": [
    "One of the clients you can use is FireFox add-ons SQLite manager. (I am sure if you Google, you can find tons of other ones)<br />\n",
    "Goto your FireFox add-ons and search for SQLite manager and install it. <br />\n",
    "Open your FireFox and click F10 and you should see Tools tab and clicking on that you should see SQL manager.<br />\n",
    "You can use the SQLite manager to connect to database, create tables, run queries etc."
   ]
  },
  {
   "cell_type": "markdown",
   "metadata": {},
   "source": [
    "### SQLite Is Serverless\n",
    "\n",
    "Most SQL database engines are implemented as a separate server process. Programs that want to access the database communicate with the server using some kind of interprocess communication (typically TCP/IP) to send requests to the server and to receive back results. SQLite does not work this way. With SQLite, the process that wants to access the database reads and writes directly from the database files on disk. There is no intermediary server process. "
   ]
  },
  {
   "cell_type": "markdown",
   "metadata": {},
   "source": [
    "### Making a Table"
   ]
  },
  {
   "cell_type": "markdown",
   "metadata": {},
   "source": [
    "As mentioned earlier, the data you put in a database is always held in a table. A database can have one table or a hundred. You cannot just throw any data into a database. You have to tell the database what sort of data it can expect."
   ]
  },
  {
   "cell_type": "markdown",
   "metadata": {},
   "source": [
    "#### SQLite Data Types"
   ]
  },
  {
   "cell_type": "markdown",
   "metadata": {},
   "source": [
    "<b>Null</b>     (An empty value like Python None, example: NULL)<br />\n",
    "<b>Integer</b>  (A whole number, just like Python, example: -20)<br />\n",
    "<b>Real</b>     (A float, example: 1.0)<br />\n",
    "<b>Text</b>     (A string, example \"Hello\")<br />\n",
    "<b>Blob</b>     (binary large object, example: An image, zip file)<br />\n",
    "\n",
    "https://www.sqlite.org/datatype3.html"
   ]
  },
  {
   "cell_type": "markdown",
   "metadata": {},
   "source": [
    "Now Lets create a table using Python and SQLite:"
   ]
  },
  {
   "cell_type": "code",
   "execution_count": null,
   "metadata": {
    "collapsed": false
   },
   "outputs": [],
   "source": [
    "import sqlite3\n",
    "# create a connection to an existing database. It creates a new one if it did not exists.\n",
    "# extension of database can be anything.\n",
    "# it creates database in same folder you are running iPython notebook file. You can use absolute path if you want.\n",
    "conn = sqlite3.connect('mytestdb.sqlite')\n",
    "# get the cursor. A cursor is what we use to move around database, execute sql and get data. \n",
    "cursor = conn.cursor()\n",
    "# write your SQLite query \n",
    "sql = 'create table students(name text, username text, id int)'\n",
    "cursor.execute(sql)\n",
    "cursor.close()"
   ]
  },
  {
   "cell_type": "markdown",
   "metadata": {},
   "source": [
    "Goto to folder you are running this iPython notebook file and check if database created."
   ]
  },
  {
   "cell_type": "markdown",
   "metadata": {},
   "source": [
    "Use FireFox or any other client to see if you can connect to database and see the tables"
   ]
  },
  {
   "cell_type": "markdown",
   "metadata": {},
   "source": [
    "### Adding Data"
   ]
  },
  {
   "cell_type": "code",
   "execution_count": null,
   "metadata": {
    "collapsed": false
   },
   "outputs": [],
   "source": [
    "import sqlite3\n",
    "\n",
    "conn = sqlite3.connect('mytestdb.sqlite')\n",
    "cursor = conn.cursor()\n",
    "print \"Let's input some students!\"\n",
    "while True:\n",
    "    # getting user input as string, this is Python built in function\n",
    "    name = raw_input('Student\\'s name:')\n",
    "    username = raw_input('Student\\'s username:')\n",
    "    id_num = raw_input('Student\\'s id number:')\n",
    "    sql = 'insert into students (name, username, id) values(:st_name, :st_username, :id_num)'\n",
    "    cursor.execute(sql, {'st_name':name, 'st_username':username, 'id_num':id_num})\n",
    "    # you need to commit your transaction otherwise it get lost. It is cached in memory\n",
    "    conn.commit()\n",
    "    cont = raw_input(\"Another student? \")\n",
    "    if cont[0].lower() == 'n':\n",
    "        break\n",
    "cursor.close()\n"
   ]
  },
  {
   "cell_type": "markdown",
   "metadata": {
    "collapsed": true
   },
   "source": [
    "### Querying the Database"
   ]
  },
  {
   "cell_type": "code",
   "execution_count": null,
   "metadata": {
    "collapsed": false
   },
   "outputs": [],
   "source": [
    "import sqlite3\n",
    "\n",
    "conn = sqlite3.connect('mytestdb.sqlite')\n",
    "cursor = conn.cursor()\n",
    "sql = \"select * from students\"\n",
    "results = cursor.execute(sql)\n",
    "# returns a list\n",
    "all_students = results.fetchall()\n",
    "for student in all_students:\n",
    "    print(student)"
   ]
  },
  {
   "cell_type": "code",
   "execution_count": null,
   "metadata": {
    "collapsed": false
   },
   "outputs": [],
   "source": [
    "# if you only want the names then simply change the query to extract the names only\n",
    "import sqlite3\n",
    "\n",
    "conn = sqlite3.connect('mytestdb.sqlite')\n",
    "cursor = conn.cursor()\n",
    "sql = \"select name from students\"\n",
    "results = cursor.execute(sql)\n",
    "all_students = results.fetchall()\n",
    "for student in all_students:\n",
    "    print(student)"
   ]
  },
  {
   "cell_type": "markdown",
   "metadata": {},
   "source": [
    "### A real World Example\n",
    "   "
   ]
  },
  {
   "cell_type": "markdown",
   "metadata": {},
   "source": [
    "We want to enter our inventory into database, so following is the complete program:"
   ]
  },
  {
   "cell_type": "code",
   "execution_count": null,
   "metadata": {
    "collapsed": false
   },
   "outputs": [],
   "source": [
    "import sqlite3\n",
    "\n",
    "def open_database(db_name):\n",
    "    conn = sqlite3.connect(db_name)\n",
    "    return conn\n",
    "\n",
    "def create_table(cursor):\n",
    "    sql = 'create table ingrediants(title text, amount float, description text)'\n",
    "    try:\n",
    "        cursor.execute(sql)\n",
    "    except:\n",
    "        pass # pass is a statement that does not do anything (keyword)\n",
    "    \n",
    "def add_ingrediants(cursor):\n",
    "    while True:\n",
    "        ingrediants = raw_input(\"Name of ingrediants (q to quit): \")\n",
    "        if ingrediants.lower() != 'q':\n",
    "            num = raw_input(\"Number in storage: \")\n",
    "            description = raw_input(\"description: \")\n",
    "            sql = 'insert into ingrediants \\\n",
    "                   (title, amount, description) \\\n",
    "                    values \\\n",
    "                    (:title, :amount, :description)'\n",
    "            cursor.execute(sql, {\"title\":ingrediants, \"amount\":num, \"description\":description})\n",
    "            print \"Added!\"\n",
    "        else:\n",
    "            print \"Okay, quitting\"\n",
    "            break\n",
    "            \n",
    "def main():\n",
    "    conn = open_database('inventory.db')\n",
    "    cursor = conn.cursor()\n",
    "    create_table(cursor)\n",
    "    add_ingrediants(cursor)\n",
    "    conn.commit()\n",
    "    conn.close()\n",
    "\n",
    "# __name__ is a variable that will be set to __main__ if you run this module\n",
    "# if you import this module the __name__ will be set to name of that module while \n",
    "# executing\n",
    "# this check for making sure you can execute this code only if you execute directly, if you import this module\n",
    "# then main() will not trigger as the if condition will be False\n",
    "if __name__ == \"__main__\":\n",
    "    main()\n",
    "        "
   ]
  },
  {
   "cell_type": "markdown",
   "metadata": {},
   "source": [
    "### Using SQL to Get More out of Databases"
   ]
  },
  {
   "cell_type": "markdown",
   "metadata": {},
   "source": [
    "Let say we have a database holding video games in a table called games."
   ]
  },
  {
   "cell_type": "code",
   "execution_count": null,
   "metadata": {
    "collapsed": true
   },
   "outputs": [],
   "source": [
    "import sqlite3\n",
    "conn = sqlite3.connect('gamesdb.sqlite')\n",
    "cursor = conn.cursor()\n",
    "sql = 'create table games(title text, rating text, system text, year int)'\n",
    "cursor.execute(sql)\n",
    "cursor.close()"
   ]
  },
  {
   "cell_type": "code",
   "execution_count": null,
   "metadata": {
    "collapsed": false
   },
   "outputs": [],
   "source": [
    "conn = sqlite3.connect('gamesdb.sqlite')\n",
    "cursor = conn.cursor()\n",
    "sql = 'insert into games (title, rating, system, year) values(:title, :rating, :system, :year)'\n",
    "cursor.execute(sql, {'title':'Forza Horizon','rating':'T', 'system':'3DS', 'year':2011})\n",
    "cursor.execute(sql, {'title':'Tales of the Abyss','rating':'E10+', 'system':'3DS', 'year':2012})\n",
    "cursor.execute(sql, {'title':'Adventure Time','rating':'T', 'system':'3DS', 'year':2011})\n",
    "cursor.execute(sql, {'title':'Hollywood Crimes','rating':'E', 'system':'360', 'year':2011})\n",
    "cursor.execute(sql, {'title':'Forza Motorsport 4','rating':'E', 'system':'360', 'year':2012})\n",
    "cursor.execute(sql, {'title':'Sonic Generations','rating':'T', 'system':'360', 'year':2012})\n",
    "cursor.execute(sql, {'title':'ZhuZhu Pets','rating':'E', 'system':'wii', 'year':2012})\n",
    "conn.commit()\n",
    "cursor.close()\n"
   ]
  },
  {
   "cell_type": "markdown",
   "metadata": {},
   "source": [
    "#### Checking for Equality"
   ]
  },
  {
   "cell_type": "code",
   "execution_count": null,
   "metadata": {
    "collapsed": false
   },
   "outputs": [],
   "source": [
    "import sqlite3\n",
    "conn = sqlite3.connect('gamesdb.sqlite')\n",
    "cursor = conn.cursor()\n",
    "sql = 'select * from games where rating = \"E\"'\n",
    "results = cursor.execute(sql)\n",
    "e_games = results.fetchall()\n",
    "e_games\n"
   ]
  },
  {
   "cell_type": "markdown",
   "metadata": {},
   "source": [
    "#### Check for Inequality"
   ]
  },
  {
   "cell_type": "code",
   "execution_count": null,
   "metadata": {
    "collapsed": false
   },
   "outputs": [],
   "source": [
    "import sqlite3\n",
    "conn = sqlite3.connect('gamesdb.sqlite')\n",
    "cursor = conn.cursor()\n",
    "sql = 'select * from games where rating != \"E\"'\n",
    "results = cursor.execute(sql)\n",
    "not_e_games = results.fetchall()\n",
    "not_e_games"
   ]
  },
  {
   "cell_type": "markdown",
   "metadata": {},
   "source": [
    "#### Using LIKE to Find Similar Items"
   ]
  },
  {
   "cell_type": "code",
   "execution_count": null,
   "metadata": {
    "collapsed": false
   },
   "outputs": [],
   "source": [
    "import sqlite3\n",
    "conn = sqlite3.connect('gamesdb.sqlite')\n",
    "cursor = conn.cursor()\n",
    "sql = 'select * from games where rating like \"E%\"'\n",
    "results = cursor.execute(sql)\n",
    "all_e_games = results.fetchall()\n",
    "all_e_games"
   ]
  },
  {
   "cell_type": "markdown",
   "metadata": {},
   "source": [
    "#### Using NOT LIKE to Find Nonsimilar Items"
   ]
  },
  {
   "cell_type": "code",
   "execution_count": null,
   "metadata": {
    "collapsed": false
   },
   "outputs": [],
   "source": [
    "import sqlite3\n",
    "conn = sqlite3.connect('gamesdb.sqlite')\n",
    "cursor = conn.cursor()\n",
    "sql = 'select * from games where rating not like \"E%\"'\n",
    "results = cursor.execute(sql)\n",
    "non_e_games = results.fetchall()\n",
    "non_e_games"
   ]
  },
  {
   "cell_type": "markdown",
   "metadata": {},
   "source": [
    "#### Querying with Greater Than and Less Than"
   ]
  },
  {
   "cell_type": "code",
   "execution_count": null,
   "metadata": {
    "collapsed": false
   },
   "outputs": [],
   "source": [
    "import sqlite3\n",
    "conn = sqlite3.connect('gamesdb.sqlite')\n",
    "cursor = conn.cursor()\n",
    "sql = 'select * from games where year > 2011'\n",
    "results = cursor.execute(sql)\n",
    "games = results.fetchall()\n",
    "games"
   ]
  },
  {
   "cell_type": "code",
   "execution_count": null,
   "metadata": {
    "collapsed": false
   },
   "outputs": [],
   "source": [
    "import sqlite3\n",
    "conn = sqlite3.connect('gamesdb.sqlite')\n",
    "cursor = conn.cursor()\n",
    "sql = 'select * from games where year <= 2011'\n",
    "results = cursor.execute(sql)\n",
    "games = results.fetchall()\n",
    "games"
   ]
  },
  {
   "cell_type": "markdown",
   "metadata": {},
   "source": [
    "#### Sorting with ORDER BY"
   ]
  },
  {
   "cell_type": "code",
   "execution_count": null,
   "metadata": {
    "collapsed": false
   },
   "outputs": [],
   "source": [
    "import sqlite3\n",
    "conn = sqlite3.connect('gamesdb.sqlite')\n",
    "cursor = conn.cursor()\n",
    "sql = 'select title from games order by title desc'\n",
    "results = cursor.execute(sql)\n",
    "games = results.fetchall()\n",
    "games"
   ]
  },
  {
   "cell_type": "markdown",
   "metadata": {},
   "source": [
    "#### Getting Unique Items with DISTINCT"
   ]
  },
  {
   "cell_type": "code",
   "execution_count": null,
   "metadata": {
    "collapsed": false
   },
   "outputs": [],
   "source": [
    "import sqlite3\n",
    "conn = sqlite3.connect('gamesdb.sqlite')\n",
    "cursor = conn.cursor()\n",
    "sql = 'select distinct system from games'\n",
    "results = cursor.execute(sql)\n",
    "systems = results.fetchall()\n",
    "systems"
   ]
  },
  {
   "cell_type": "markdown",
   "metadata": {},
   "source": [
    "#### Updating Records with UPDATE"
   ]
  },
  {
   "cell_type": "code",
   "execution_count": null,
   "metadata": {
    "collapsed": false
   },
   "outputs": [],
   "source": [
    "import sqlite3\n",
    "conn = sqlite3.connect('gamesdb.sqlite')\n",
    "cursor = conn.cursor()\n",
    "sql = 'update games set title = \"Adventure Time, Dark Moon\" where title = \\\n",
    "                                 \"Adventure Time\"'\n",
    "cursor.execute(sql)\n",
    "conn.commit()\n",
    "sql = 'select * from games where title like \"Ad%\"'\n",
    "results = cursor.execute(sql)\n",
    "print results.fetchall()\n"
   ]
  },
  {
   "cell_type": "markdown",
   "metadata": {},
   "source": [
    "#### Deleting Records with DELETE"
   ]
  },
  {
   "cell_type": "code",
   "execution_count": null,
   "metadata": {
    "collapsed": false
   },
   "outputs": [],
   "source": [
    "import sqlite3\n",
    "conn = sqlite3.connect('gamesdb.sqlite')\n",
    "cursor = conn.cursor()\n",
    "sql = 'delete from games where title = \"Sonic Generations\"'\n",
    "cursor.execute(sql)\n",
    "conn.commit()\n",
    "sql = 'select * from games'\n",
    "results = cursor.execute(sql)\n",
    "print results.fetchall()"
   ]
  },
  {
   "cell_type": "markdown",
   "metadata": {},
   "source": [
    "### Does Python work with other databases?\n",
    "It does but you have to install a module or library to work with it. A popular toolkit is SQLAlchemy, which works with many popular databases, such as MySQL and Oracle. You can find SQLAlchemy at http://www.sqlalchemy.org <br />\n",
    "\n",
    "If SQLAlchemy does not cover your database, the next best option is to go to PyPi (https://pypi.python.org/pypi) and search for your particular database."
   ]
  },
  {
   "cell_type": "markdown",
   "metadata": {},
   "source": [
    "### In Class Lab Assignment"
   ]
  },
  {
   "cell_type": "markdown",
   "metadata": {},
   "source": [
    "Based on Inventory example, write a Python code that presents the user with following funcational menu:"
   ]
  },
  {
   "cell_type": "markdown",
   "metadata": {},
   "source": [
    "What do you want to do?<br />\n",
    "A- Add an ingredient<br />\n",
    "S- Search for an ingredient<br />\n",
    "L- List all ingredients<br />\n",
    "Q- Quite<br />"
   ]
  }
 ],
 "metadata": {
  "kernelspec": {
   "display_name": "Python 2",
   "language": "python",
   "name": "python2"
  },
  "language_info": {
   "codemirror_mode": {
    "name": "ipython",
    "version": 2
   },
   "file_extension": ".py",
   "mimetype": "text/x-python",
   "name": "python",
   "nbconvert_exporter": "python",
   "pygments_lexer": "ipython2",
   "version": "2.7.10"
  }
 },
 "nbformat": 4,
 "nbformat_minor": 0
}
