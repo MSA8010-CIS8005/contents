{
 "cells": [
  {
   "cell_type": "markdown",
   "metadata": {},
   "source": [
    "# MongoDB\n",
    "\n",
    "MongoDB (is a cross-platform document-oriented database. Classified as a NoSQL database, MongoDB eschews (avoid) the traditional table-based relational database structure in favor of JSON-like documents with dynamic schemas (MongoDB calls the format BSON), making the integration of data in certain types of applications easier and faster. Released under a combination of the GNU Affero General Public License and the Apache License, MongoDB is free and open-source software."
   ]
  },
  {
   "cell_type": "markdown",
   "metadata": {},
   "source": [
    "##Install MongoDB on OS X"
   ]
  },
  {
   "cell_type": "markdown",
   "metadata": {},
   "source": [
    "http://docs.mongodb.org/manual/tutorial/install-mongodb-on-os-x/\n",
    "\n",
    "I did it manually on Mac.\n",
    "\n",
    "I also set the PATH to mongodb in my bash_profile. (~/.bash_profile)\n",
    "\n",
    "export PATH=\"&lt;mongodb-install-directory&gt;/bin:$PATH\"\n",
    "\n",
    "I put the command to start mongodb with database path in a shell script.\n",
    "\n",
    "Make sure using chmod ugo+x &lt;shell_script_file_name&gt;.sh, to grant execution right to the shell scrip.\n",
    "\n",
    "Then run it: ./&lt;shell_script_file_name&gt;.sh <br />\n",
    "Try this URL on your browser and you get a nice message from MongoDB: http://localhost:27017/\n",
    "\n",
    "control-c terminates the mongodb. <br />\n",
    "control-z just takes you to terminal but mongodb still running. Close the terminal or kill the process to terminate\n",
    "mongodb.<br />\n",
    "\n",
    "How to kill the process:</br>\n",
    "\n",
    "ps -ef|grep mongo  (find the processid) <br />\n",
    "kill -9 processId\n"
   ]
  },
  {
   "cell_type": "markdown",
   "metadata": {},
   "source": [
    "##Install MongoDB on Windows\n",
    "\n",
    "http://docs.mongodb.org/manual/tutorial/install-mongodb-on-windows/\n",
    "    "
   ]
  },
  {
   "cell_type": "markdown",
   "metadata": {},
   "source": [
    "## Getting Started with MongoDB (Python Edition)"
   ]
  },
  {
   "cell_type": "markdown",
   "metadata": {},
   "source": [
    "### Introduction to MongoDB"
   ]
  },
  {
   "cell_type": "markdown",
   "metadata": {},
   "source": [
    "https://docs.mongodb.org/getting-started/python/introduction/"
   ]
  },
  {
   "cell_type": "markdown",
   "metadata": {},
   "source": [
    "### Import Example Dataset"
   ]
  },
  {
   "cell_type": "markdown",
   "metadata": {},
   "source": [
    "https://docs.mongodb.org/getting-started/python/import-data/\n",
    "\n",
    "The command connects to mongodb server and populates the data to database path set in running the server script.\n",
    "\n",
    "data/db"
   ]
  },
  {
   "cell_type": "markdown",
   "metadata": {},
   "source": [
    "### Python Driver (PyMongo)\n",
    "\n",
    "https://docs.mongodb.org/getting-started/python/client/"
   ]
  },
  {
   "cell_type": "markdown",
   "metadata": {},
   "source": [
    "I used pip install pymongo. We already done pip installation before for some Python thirdparty libraries."
   ]
  },
  {
   "cell_type": "markdown",
   "metadata": {},
   "source": [
    "### Import pymongo"
   ]
  },
  {
   "cell_type": "code",
   "execution_count": null,
   "metadata": {
    "collapsed": true
   },
   "outputs": [],
   "source": [
    "from pymongo import MongoClient"
   ]
  },
  {
   "cell_type": "markdown",
   "metadata": {},
   "source": [
    "### Create a Connection"
   ]
  },
  {
   "cell_type": "code",
   "execution_count": null,
   "metadata": {
    "collapsed": true
   },
   "outputs": [],
   "source": [
    "client = MongoClient()"
   ]
  },
  {
   "cell_type": "markdown",
   "metadata": {},
   "source": [
    "### Access Database Objects"
   ]
  },
  {
   "cell_type": "code",
   "execution_count": null,
   "metadata": {
    "collapsed": true
   },
   "outputs": [],
   "source": [
    "db = client.primer"
   ]
  },
  {
   "cell_type": "markdown",
   "metadata": {},
   "source": [
    "### Access Collection Objects"
   ]
  },
  {
   "cell_type": "code",
   "execution_count": null,
   "metadata": {
    "collapsed": true
   },
   "outputs": [],
   "source": [
    "coll = db.dataset"
   ]
  },
  {
   "cell_type": "markdown",
   "metadata": {},
   "source": [
    "### Getting Started with the mongo Shell"
   ]
  },
  {
   "cell_type": "markdown",
   "metadata": {},
   "source": [
    "http://docs.mongodb.org/manual/tutorial/getting-started-with-the-mongo-shell/"
   ]
  },
  {
   "cell_type": "markdown",
   "metadata": {},
   "source": [
    "### Insert Data with PyMongo\n",
    "\n",
    "https://docs.mongodb.org/getting-started/python/insert/"
   ]
  },
  {
   "cell_type": "code",
   "execution_count": null,
   "metadata": {
    "collapsed": false
   },
   "outputs": [],
   "source": [
    "# we can use strptime function to format datetime for MongoDB\n",
    "from datetime import datetime\n",
    "\n",
    "datetime.strptime(\"2014-01-16\", \"%Y-%m-%d\")"
   ]
  },
  {
   "cell_type": "code",
   "execution_count": null,
   "metadata": {
    "collapsed": false
   },
   "outputs": [],
   "source": [
    "# we can use strptime function to format datetime for MongoDB\n",
    "# datetime.strptime(\"2014-01-16\", \"%Y-%m-%d\")\n",
    "# gives you: \n",
    "\n",
    "from pymongo import MongoClient\n",
    "from datetime import datetime\n",
    "\n",
    "client = MongoClient()\n",
    "db = client.test\n",
    "\n",
    "result = db.restaurants.insert_one(\n",
    "    {\n",
    "        \"address\": {\n",
    "            \"street\": \"2 Avenue\",\n",
    "            \"zipcode\": \"10075\",\n",
    "            \"building\": \"1480\",\n",
    "            \"coord\": [-73.9557413, 40.7720266]\n",
    "        },\n",
    "        \"borough\": \"Manhattan\",\n",
    "        \"cuisine\": \"Italian\",\n",
    "        \"grades\": [\n",
    "            {\n",
    "                \"date\": datetime.strptime(\"2014-10-01\", \"%Y-%m-%d\"),\n",
    "                \"grade\": \"A\",\n",
    "                \"score\": 11\n",
    "            },\n",
    "            {\n",
    "                \"date\": datetime.strptime(\"2014-01-16\", \"%Y-%m-%d\"),\n",
    "                \"grade\": \"B\",\n",
    "                \"score\": 17\n",
    "            }\n",
    "        ],\n",
    "        \"name\": \"Vella\",\n",
    "        \"restaurant_id\": \"41704620\"\n",
    "    }\n",
    ")\n"
   ]
  },
  {
   "cell_type": "code",
   "execution_count": null,
   "metadata": {
    "collapsed": false
   },
   "outputs": [],
   "source": [
    "result.inserted_id"
   ]
  },
  {
   "cell_type": "markdown",
   "metadata": {},
   "source": [
    "### Find or Query Data with PyMongo"
   ]
  },
  {
   "cell_type": "markdown",
   "metadata": {},
   "source": [
    "https://docs.mongodb.org/getting-started/python/query/"
   ]
  },
  {
   "cell_type": "code",
   "execution_count": null,
   "metadata": {
    "collapsed": true
   },
   "outputs": [],
   "source": [
    "from pymongo import MongoClient\n",
    "\n",
    "client = MongoClient()\n",
    "db = client.test"
   ]
  },
  {
   "cell_type": "code",
   "execution_count": null,
   "metadata": {
    "collapsed": false
   },
   "outputs": [],
   "source": [
    "# Query for All Documents in a Collection, I put a .limit to get the top 5 document otherwise it takes forever!\n",
    "cursor = db.restaurants.find().limit(5)\n",
    "\n",
    "for document in cursor:\n",
    "    print(document)"
   ]
  },
  {
   "cell_type": "code",
   "execution_count": null,
   "metadata": {
    "collapsed": false
   },
   "outputs": [],
   "source": [
    "# Specify Equality Conditions, again I put a limit on documents being returned\n",
    "cursor = db.restaurants.find({\"borough\": \"Bronx\"}).limit(5)\n",
    "\n",
    "for document in cursor:\n",
    "    print(document)"
   ]
  },
  {
   "cell_type": "code",
   "execution_count": null,
   "metadata": {
    "collapsed": false
   },
   "outputs": [],
   "source": [
    "# Query by a Field in an Embedded Document\n",
    "cursor = db.restaurants.find({\"address.zipcode\": \"10075\"})\n",
    "\n",
    "for document in cursor:\n",
    "    print(document)"
   ]
  },
  {
   "cell_type": "code",
   "execution_count": null,
   "metadata": {
    "collapsed": false
   },
   "outputs": [],
   "source": [
    "# Query by a Field in an Array, again I put a limit on documents being returned\n",
    "cursor = db.restaurants.find({\"grades.grade\": \"B\"}).limit(5)\n",
    "\n",
    "for document in cursor:\n",
    "    print(document)"
   ]
  },
  {
   "cell_type": "code",
   "execution_count": null,
   "metadata": {
    "collapsed": false
   },
   "outputs": [],
   "source": [
    "# Specify Conditions with Operators\n",
    "# Greater Than Operator ($gt)\n",
    "cursor = db.restaurants.find({\"grades.score\": {\"$gt\": 30}}).limit(5)\n",
    "\n",
    "for document in cursor:\n",
    "    print(document)"
   ]
  },
  {
   "cell_type": "code",
   "execution_count": null,
   "metadata": {
    "collapsed": false
   },
   "outputs": [],
   "source": [
    "# Less Than Operator ($lt)\n",
    "cursor = db.restaurants.find({\"grades.score\": {\"$lt\": 10}}).limit(5)\n",
    "\n",
    "for document in cursor:\n",
    "    print(document)"
   ]
  },
  {
   "cell_type": "code",
   "execution_count": null,
   "metadata": {
    "collapsed": false
   },
   "outputs": [],
   "source": [
    "# Combine Conditions\n",
    "# Logical AND\n",
    "cursor = db.restaurants.find({\"cuisine\": \"Italian\", \"address.zipcode\": \"10075\"})\n",
    "\n",
    "for document in cursor:\n",
    "    print(document)"
   ]
  },
  {
   "cell_type": "code",
   "execution_count": null,
   "metadata": {
    "collapsed": false
   },
   "outputs": [],
   "source": [
    "# Logical OR\n",
    "cursor = db.restaurants.find(\n",
    "    {\"$or\": [{\"cuisine\": \"Italian\"}, {\"address.zipcode\": \"10075\"}]})\n",
    "\n",
    "for document in cursor:\n",
    "    print(document)"
   ]
  },
  {
   "cell_type": "code",
   "execution_count": null,
   "metadata": {
    "collapsed": false
   },
   "outputs": [],
   "source": [
    "# Sort Query Results\n",
    "import pymongo\n",
    "\n",
    "cursor = db.restaurants.find().sort([\n",
    "    (\"borough\", pymongo.ASCENDING),\n",
    "    (\"address.zipcode\", pymongo.DESCENDING)\n",
    "]).limit(20)\n",
    "\n",
    "for document in cursor:\n",
    "    print(document)"
   ]
  },
  {
   "cell_type": "markdown",
   "metadata": {},
   "source": [
    "### Update Data with PyMongo"
   ]
  },
  {
   "cell_type": "markdown",
   "metadata": {},
   "source": [
    "https://docs.mongodb.org/getting-started/python/update/"
   ]
  },
  {
   "cell_type": "code",
   "execution_count": null,
   "metadata": {
    "collapsed": true
   },
   "outputs": [],
   "source": [
    "from pymongo import MongoClient\n",
    "\n",
    "client = MongoClient()\n",
    "db = client.test\n",
    "\n",
    "# updates only one document, the first one\n",
    "# it adds the lastModified to those documents\n",
    "result = db.restaurants.update_one(\n",
    "    {\"name\": \"Juni\"},\n",
    "    {\n",
    "        \"$set\": {\n",
    "            \"cuisine\": \"American (New)\"\n",
    "        },\n",
    "        \"$currentDate\": {\"lastModified\": True}\n",
    "    }\n",
    ")\n"
   ]
  },
  {
   "cell_type": "code",
   "execution_count": null,
   "metadata": {
    "collapsed": false
   },
   "outputs": [],
   "source": [
    "result.matched_count"
   ]
  },
  {
   "cell_type": "code",
   "execution_count": null,
   "metadata": {
    "collapsed": false
   },
   "outputs": [],
   "source": [
    "result.modified_count"
   ]
  },
  {
   "cell_type": "code",
   "execution_count": null,
   "metadata": {
    "collapsed": false
   },
   "outputs": [],
   "source": [
    "cursor = db.restaurants.find({\"name\": \"Juni\"})\n",
    "\n",
    "for document in cursor:\n",
    "    print(document)"
   ]
  },
  {
   "cell_type": "code",
   "execution_count": null,
   "metadata": {
    "collapsed": true
   },
   "outputs": [],
   "source": [
    "# updates one or more documents\n",
    "result = db.restaurants.update_many(\n",
    "    {\"address.zipcode\": \"10016\", \"cuisine\": \"Other\"},\n",
    "    {\n",
    "        \"$set\": {\"cuisine\": \"Category To Be Determined\"},\n",
    "        \"$currentDate\": {\"lastModified\": True}\n",
    "    }\n",
    ")"
   ]
  },
  {
   "cell_type": "code",
   "execution_count": null,
   "metadata": {
    "collapsed": false
   },
   "outputs": [],
   "source": [
    "result.matched_count"
   ]
  },
  {
   "cell_type": "code",
   "execution_count": null,
   "metadata": {
    "collapsed": false
   },
   "outputs": [],
   "source": [
    "result.modified_count"
   ]
  },
  {
   "cell_type": "code",
   "execution_count": null,
   "metadata": {
    "collapsed": false
   },
   "outputs": [],
   "source": [
    "cursor = db.restaurants.find({\"address.zipcode\": \"10016\", \"cuisine\": \"Category To Be Determined\"})\n",
    "\n",
    "for document in cursor:\n",
    "    print(document)"
   ]
  },
  {
   "cell_type": "code",
   "execution_count": null,
   "metadata": {
    "collapsed": true
   },
   "outputs": [],
   "source": [
    "# replaces a document. The first argument is search criteria and the second what we want to repalce the whole document\n",
    "# with. So the whole document gets replaced but the _id\n",
    "result = db.restaurants.replace_one(\n",
    "    {\"restaurant_id\": \"41704620\"},\n",
    "    {\n",
    "        \"name\": \"Vella 2\",\n",
    "        \"address\": {\n",
    "            \"coord\": [-73.9557413, 40.7720266],\n",
    "            \"building\": \"1480\",\n",
    "            \"street\": \"2 Avenue\",\n",
    "            \"zipcode\": \"10075\"\n",
    "        }\n",
    "    }\n",
    ")"
   ]
  },
  {
   "cell_type": "code",
   "execution_count": null,
   "metadata": {
    "collapsed": false
   },
   "outputs": [],
   "source": [
    "result.matched_count"
   ]
  },
  {
   "cell_type": "code",
   "execution_count": null,
   "metadata": {
    "collapsed": false
   },
   "outputs": [],
   "source": [
    "result.modified_count"
   ]
  },
  {
   "cell_type": "code",
   "execution_count": null,
   "metadata": {
    "collapsed": false
   },
   "outputs": [],
   "source": [
    "cursor = db.restaurants.find({\"address.zipcode\": \"10075\", \"address.building\": \"1480\"})\n",
    "\n",
    "for document in cursor:\n",
    "    print(document)"
   ]
  },
  {
   "cell_type": "markdown",
   "metadata": {},
   "source": [
    "### Remove Data with PyMongo"
   ]
  },
  {
   "cell_type": "markdown",
   "metadata": {},
   "source": [
    "https://docs.mongodb.org/getting-started/python/remove/"
   ]
  },
  {
   "cell_type": "code",
   "execution_count": null,
   "metadata": {
    "collapsed": true
   },
   "outputs": [],
   "source": [
    "from pymongo import MongoClient\n",
    "\n",
    "client = MongoClient()\n",
    "db = client.test\n",
    "\n",
    "# removing alll matching documents\n",
    "result = db.restaurants.delete_many({\"borough\": \"Manhattan\"})"
   ]
  },
  {
   "cell_type": "code",
   "execution_count": null,
   "metadata": {
    "collapsed": false
   },
   "outputs": [],
   "source": [
    "result.deleted_count"
   ]
  },
  {
   "cell_type": "code",
   "execution_count": null,
   "metadata": {
    "collapsed": true
   },
   "outputs": [],
   "source": [
    "# delete all the documents\n",
    "result = db.restaurants.delete_many({})"
   ]
  },
  {
   "cell_type": "code",
   "execution_count": null,
   "metadata": {
    "collapsed": true
   },
   "outputs": [],
   "source": [
    "result.deleted_count"
   ]
  },
  {
   "cell_type": "code",
   "execution_count": null,
   "metadata": {
    "collapsed": true
   },
   "outputs": [],
   "source": [
    "# drop a collection\n",
    "db.restaurants.drop()"
   ]
  },
  {
   "cell_type": "markdown",
   "metadata": {},
   "source": [
    "### Data Aggregation with PyMongo"
   ]
  },
  {
   "cell_type": "code",
   "execution_count": null,
   "metadata": {
    "collapsed": false
   },
   "outputs": [],
   "source": [
    "from pymongo import MongoClient\n",
    "\n",
    "client = MongoClient()\n",
    "db = client.test\n",
    "\n",
    "# group all documents by borough and with _id as key and key count for summing all the counts \n",
    "# 1 for $sum value, multiplys the result by 1\n",
    "cursor = db.restaurants.aggregate(\n",
    "    [\n",
    "        {\"$group\": {\"_id\": \"$borough\", \"count\": {\"$sum\": 1}}}\n",
    "    ]\n",
    ")\n",
    "\n",
    "for document in cursor:\n",
    "    print(document)"
   ]
  },
  {
   "cell_type": "code",
   "execution_count": null,
   "metadata": {
    "collapsed": false
   },
   "outputs": [],
   "source": [
    "cursor = db.restaurants.aggregate(\n",
    "    [\n",
    "        {\"$match\": {\"borough\": \"Queens\", \"cuisine\": \"Brazilian\"}},\n",
    "        {\"$group\": {\"_id\": \"$address.zipcode\", \"count\": {\"$sum\": 1}}}\n",
    "    ]\n",
    ")\n",
    "\n",
    "for document in cursor:\n",
    "    print(document)"
   ]
  },
  {
   "cell_type": "markdown",
   "metadata": {},
   "source": [
    "### Showing the date in DataFrame"
   ]
  },
  {
   "cell_type": "code",
   "execution_count": null,
   "metadata": {
    "collapsed": false
   },
   "outputs": [],
   "source": [
    "import pandas as pd\n",
    "from pymongo import MongoClient\n",
    "\n",
    "client = MongoClient()\n",
    "db = client.test\n",
    "input_data = db.restaurants\n",
    "data  = pd.DataFrame(list(input_data.find()))\n",
    "data"
   ]
  },
  {
   "cell_type": "code",
   "execution_count": null,
   "metadata": {
    "collapsed": true
   },
   "outputs": [],
   "source": []
  }
 ],
 "metadata": {
  "kernelspec": {
   "display_name": "Python 2",
   "language": "python",
   "name": "python2"
  },
  "language_info": {
   "codemirror_mode": {
    "name": "ipython",
    "version": 2
   },
   "file_extension": ".py",
   "mimetype": "text/x-python",
   "name": "python",
   "nbconvert_exporter": "python",
   "pygments_lexer": "ipython2",
   "version": "2.7.10"
  }
 },
 "nbformat": 4,
 "nbformat_minor": 0
}
