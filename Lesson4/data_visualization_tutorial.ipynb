{
 "cells": [
  {
   "cell_type": "markdown",
   "metadata": {},
   "source": [
    "#Data Visualization using MatPlotLib"
   ]
  },
  {
   "cell_type": "markdown",
   "metadata": {},
   "source": [
    "Most people visualize information better when they see it in graphic, versus textual format. Graphics help people see relationships and make comparisons with greater ease. Even if you can deal with the abstraction of textual data with ease, performing data analysis is all about communication."
   ]
  },
  {
   "cell_type": "markdown",
   "metadata": {},
   "source": [
    "## Defining the plot"
   ]
  },
  {
   "cell_type": "code",
   "execution_count": null,
   "metadata": {
    "collapsed": false
   },
   "outputs": [],
   "source": [
    "%matplotlib inline\n",
    "values = [1, 5, 8, 9, 2, 0, 3, 10, 4, 7]\n",
    "import matplotlib.pyplot as plt\n",
    "plt.plot(range(1,11), values)\n",
    "plt.show()"
   ]
  },
  {
   "cell_type": "markdown",
   "metadata": {},
   "source": [
    "## Drawing multiple lines and plots"
   ]
  },
  {
   "cell_type": "code",
   "execution_count": null,
   "metadata": {
    "collapsed": false
   },
   "outputs": [],
   "source": [
    "values = [1, 5, 8, 9, 2, 0, 3, 10, 4, 7]\n",
    "values2 = [3, 8, 9, 2, 1, 2, 4, 7, 6, 6]\n",
    "import matplotlib.pyplot as plt\n",
    "plt.plot(range(1,11), values)\n",
    "plt.plot(range(1,11), values2)\n",
    "plt.show()"
   ]
  },
  {
   "cell_type": "markdown",
   "metadata": {},
   "source": [
    "## Saving your work"
   ]
  },
  {
   "cell_type": "code",
   "execution_count": null,
   "metadata": {
    "collapsed": false
   },
   "outputs": [],
   "source": [
    "values = [1, 5, 8, 9, 2, 0, 3, 10, 4, 7]\n",
    "import matplotlib.pyplot as plt\n",
    "plt.plot(range(1,11), values)\n",
    "plt.savefig('MySamplePlot.png', format='png')"
   ]
  },
  {
   "cell_type": "markdown",
   "metadata": {},
   "source": [
    "# Setting the Axis, Ticks, Grids"
   ]
  },
  {
   "cell_type": "markdown",
   "metadata": {},
   "source": [
    "## Setting the axes"
   ]
  },
  {
   "cell_type": "code",
   "execution_count": null,
   "metadata": {
    "collapsed": false
   },
   "outputs": [],
   "source": [
    "values = [0, 5, 8, 9, 2, 0, 3, 10, 4, 7]\n",
    "import matplotlib.pyplot as plt\n",
    "# getting the axes but not doing anything to it here\n",
    "ax = plt.axes()\n",
    "plt.plot(range(1,11), values)\n",
    "plt.show()"
   ]
  },
  {
   "cell_type": "markdown",
   "metadata": {},
   "source": [
    "## Formatting the axes"
   ]
  },
  {
   "cell_type": "code",
   "execution_count": null,
   "metadata": {
    "collapsed": false
   },
   "outputs": [],
   "source": [
    "values = [0, 5, 8, 9, 2, 0, 3, 10, 4, 7]\n",
    "import matplotlib.pyplot as plt\n",
    "ax = plt.axes()\n",
    "# changing the axes limit\n",
    "ax.set_xlim([0, 11])\n",
    "ax.set_ylim([-1, 11])\n",
    "# changing the axes ticks\n",
    "ax.set_xticks([1, 2, 3, 4, 5, 6, 7, 8, 9, 10])\n",
    "ax.set_yticks([0, 1, 2, 3, 4, 5, 6, 7, 8, 9, 10])\n",
    "plt.plot(range(1,11), values)\n",
    "plt.show()"
   ]
  },
  {
   "cell_type": "markdown",
   "metadata": {},
   "source": [
    "## Adding grids"
   ]
  },
  {
   "cell_type": "code",
   "execution_count": null,
   "metadata": {
    "collapsed": false
   },
   "outputs": [],
   "source": [
    "values = [0, 5, 8, 9, 2, 0, 3, 10, 4, 7]\n",
    "import matplotlib.pyplot as plt\n",
    "ax = plt.axes()\n",
    "ax.set_xlim([0, 11])\n",
    "ax.set_ylim([-1, 11])\n",
    "ax.set_xticks([1, 2, 3, 4, 5, 6, 7, 8, 9, 10])\n",
    "ax.set_yticks([0, 1, 2, 3, 4, 5, 6, 7, 8, 9, 10])\n",
    "ax.grid()\n",
    "plt.plot(range(1,11), values)\n",
    "plt.show()"
   ]
  },
  {
   "cell_type": "markdown",
   "metadata": {},
   "source": [
    "# Defining the Line Appearance\n",
    "\n",
    "Just drawing lines on a page wont do much for you if you need to help the viewer understand the importance of your data. In most cases, you need to use different line styles to ensure that the viewer can tell one data grouping from another."
   ]
  },
  {
   "cell_type": "markdown",
   "metadata": {},
   "source": [
    "## Working with line styles"
   ]
  },
  {
   "cell_type": "code",
   "execution_count": null,
   "metadata": {
    "collapsed": false
   },
   "outputs": [],
   "source": [
    "# '-'    Solid Line\n",
    "# '--'   Dashed Line\n",
    "# '-.'   Dash-dot Line\n",
    "# ':'    Dotted Line\n",
    "values = [1, 5, 8, 9, 2, 0, 3, 10, 4, 7]\n",
    "values2 = [3, 8, 9, 2, 1, 2, 4, 7, 6, 6]\n",
    "import matplotlib.pyplot as plt\n",
    "plt.plot(range(1,11), values, '--')\n",
    "plt.plot(range(1,11), values2, ':')\n",
    "plt.show()"
   ]
  },
  {
   "cell_type": "markdown",
   "metadata": {},
   "source": [
    "## Using colors\n",
    "\n",
    "http://matplotlib.org/api/colors_api.html"
   ]
  },
  {
   "cell_type": "code",
   "execution_count": null,
   "metadata": {
    "collapsed": false
   },
   "outputs": [],
   "source": [
    "values = [1, 5, 8, 9, 2, 0, 3, 10, 4, 7]\n",
    "values2 = [3, 8, 9, 2, 1, 2, 4, 7, 6, 6]\n",
    "import matplotlib.pyplot as plt\n",
    "plt.plot(range(1,11), values, 'r')\n",
    "plt.plot(range(1,11), values2, 'b')\n",
    "plt.show()"
   ]
  },
  {
   "cell_type": "markdown",
   "metadata": {},
   "source": [
    "## Adding markers\n",
    "\n",
    "Markers add a special sympol to each data point in a line graph. Unlike line style and color, markers tend to be a little less susceptible to accessibility and printing issues.\n",
    "\n",
    "Different markers: http://matplotlib.org/api/markers_api.html"
   ]
  },
  {
   "cell_type": "code",
   "execution_count": null,
   "metadata": {
    "collapsed": false
   },
   "outputs": [],
   "source": [
    "values = [1, 5, 8, 9, 2, 0, 3, 10, 4, 7]\n",
    "values2 = [3, 8, 9, 2, 1, 2, 4, 7, 6, 6]\n",
    "import matplotlib.pyplot as plt\n",
    "plt.plot(range(1,11), values, 'o--')\n",
    "plt.plot(range(1,11), values2, 'v:')\n",
    "plt.show()"
   ]
  },
  {
   "cell_type": "code",
   "execution_count": null,
   "metadata": {
    "collapsed": false
   },
   "outputs": [],
   "source": [
    "# same example with change of color\n",
    "values = [1, 5, 8, 9, 2, 0, 3, 10, 4, 7]\n",
    "values2 = [3, 8, 9, 2, 1, 2, 4, 7, 6, 6]\n",
    "import matplotlib.pyplot as plt\n",
    "plt.plot(range(1,11), values, 'ro--')\n",
    "plt.plot(range(1,11), values2, 'gv:')\n",
    "plt.show()"
   ]
  },
  {
   "cell_type": "markdown",
   "metadata": {},
   "source": [
    "# Using Labels, Annotations, and Legends"
   ]
  },
  {
   "cell_type": "markdown",
   "metadata": {},
   "source": [
    "## Adding labels"
   ]
  },
  {
   "cell_type": "code",
   "execution_count": null,
   "metadata": {
    "collapsed": false
   },
   "outputs": [],
   "source": [
    "values = [1, 5, 8, 9, 2, 0, 3, 10, 4, 7]\n",
    "import matplotlib.pyplot as plt\n",
    "plt.xlabel('Entries')\n",
    "plt.ylabel('Values')\n",
    "plt.plot(range(1,11), values)\n",
    "plt.show()"
   ]
  },
  {
   "cell_type": "markdown",
   "metadata": {},
   "source": [
    "## Annotating the chart"
   ]
  },
  {
   "cell_type": "code",
   "execution_count": null,
   "metadata": {
    "collapsed": false
   },
   "outputs": [],
   "source": [
    "values = [1, 5, 8, 9, 2, 0, 3, 10, 4, 7]\n",
    "import matplotlib.pyplot as plt\n",
    "plt.annotate(xy=[1,1], s='First Entry')\n",
    "plt.annotate(xy=[4,9], s='Critical Point')\n",
    "plt.plot(range(1,11), values)\n",
    "plt.show()"
   ]
  },
  {
   "cell_type": "markdown",
   "metadata": {},
   "source": [
    "## Creating a legend\n",
    "\n",
    "http://matplotlib.org/users/legend_guide.html\n",
    "\n",
    "You might encounter \\* and \\** as arguments of a method in Python, so lets have a small tutorial about that:\n",
    "\n",
    "http://www.saltycrane.com/blog/2008/01/how-to-use-args-and-kwargs-in-python/"
   ]
  },
  {
   "cell_type": "code",
   "execution_count": null,
   "metadata": {
    "collapsed": false
   },
   "outputs": [],
   "source": [
    "values = [1, 5, 8, 9, 2, 0, 3, 10, 4, 7]\n",
    "values2 = [3, 8, 9, 2, 1, 2, 4, 7, 6, 6]\n",
    "import matplotlib.pyplot as plt\n",
    "line1 = plt.plot(range(1,11), values)\n",
    "line2 = plt.plot(range(1,11), values2)\n",
    "# loc=4 puts the legend bottom right. Look at the legend document for all other options.\n",
    "plt.legend(['First', 'Second'], loc=4)\n",
    "plt.show()"
   ]
  }
 ],
 "metadata": {
  "kernelspec": {
   "display_name": "Python 2",
   "language": "python",
   "name": "python2"
  },
  "language_info": {
   "codemirror_mode": {
    "name": "ipython",
    "version": 2
   },
   "file_extension": ".py",
   "mimetype": "text/x-python",
   "name": "python",
   "nbconvert_exporter": "python",
   "pygments_lexer": "ipython2",
   "version": "2.7.10"
  }
 },
 "nbformat": 4,
 "nbformat_minor": 0
}
