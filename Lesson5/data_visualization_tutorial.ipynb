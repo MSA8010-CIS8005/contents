{
 "cells": [
  {
   "cell_type": "markdown",
   "metadata": {},
   "source": [
    "# Choosing the Right Graph\n",
    "\n",
    "The kind of graph you choose determines how people view the associated data, so choosing the right graph from the outset is important. For example, if you want to show how various data elements contribute toward a whole, you really need to use pie chart. On the other hand, when you want people to form opinions on how data elements compare, you use a bar chart. The idea is to choose a graph that naturally leads people to draw the conclusion that you need them to draw about the data that you have carefully massaged from various data sources."
   ]
  },
  {
   "cell_type": "markdown",
   "metadata": {},
   "source": [
    "## Showing parts of a whole with pie charts"
   ]
  },
  {
   "cell_type": "code",
   "execution_count": null,
   "metadata": {
    "collapsed": false
   },
   "outputs": [],
   "source": [
    "%matplotlib inline\n",
    "\n",
    "import matplotlib.pyplot as plt\n",
    "\n",
    "# the portion you want to dedicate to each value\n",
    "# for example for first one is 5 out of 43 makes it %11.6\n",
    "values = [5, 8, 9, 10, 4, 7]\n",
    "colors = ['b', 'g', 'r', 'c', 'm', 'y']\n",
    "labels = ['Apple', 'Orange', 'Pear', 'Peach', 'Mango', 'Banana']\n",
    "# move the second value section out of the chart. The higher the number the farther it gets moved\n",
    "explode = (0, 0.2, 0, 0, 0, 0)\n",
    "\n",
    "# autopct the %.1f is Python formating and %% used to show as percent\n",
    "plt.pie(values, colors=colors, labels=labels, \n",
    "        explode=explode, autopct='%.1f%%',\n",
    "        counterclock=False, shadow=True)\n",
    "plt.title('Fruit Production')\n",
    "\n",
    "plt.show()"
   ]
  },
  {
   "cell_type": "markdown",
   "metadata": {},
   "source": [
    "## Creating comparisons with bar charts"
   ]
  },
  {
   "cell_type": "code",
   "execution_count": null,
   "metadata": {
    "collapsed": false
   },
   "outputs": [],
   "source": [
    "import matplotlib.pyplot as plt\n",
    "\n",
    "values = [500, 800, 900, 1000, 1400, 1600]\n",
    "widths = [0.7, 0.7, 0.7, 0.7, 0.7, 0.7]\n",
    "colors = ['b', 'b', 'b', 'b', 'r', 'b']\n",
    "\n",
    "# current figure, dont worry about this\n",
    "fig, ax = plt.subplots()\n",
    "\n",
    "plt.bar(range(6), values, width=widths, \n",
    "        color=colors, align='center')\n",
    "\n",
    "plt.xticks(range(6), ('2016', '2017', '2018', '2019', '2020', '2021') )\n",
    "\n",
    "ax.set_ylabel('Billions')\n",
    "\n",
    "plt.title('GDP Prediction')\n",
    "\n",
    "plt.show()"
   ]
  },
  {
   "cell_type": "markdown",
   "metadata": {},
   "source": [
    "## Showing data progressions using histograms\n",
    "\n",
    "Histograms categorize data by breaking it into bins, where each bin contains a subset of the data range."
   ]
  },
  {
   "cell_type": "code",
   "execution_count": null,
   "metadata": {
    "collapsed": false
   },
   "outputs": [],
   "source": [
    "import numpy as np\n",
    "import matplotlib.pyplot as plt\n",
    "\n",
    "# a normal distribution of 10000 numbers\n",
    "x = 20 * np.random.randn(10000)\n",
    "\n",
    "# 25 is number of bins to use to show this histogram\n",
    "plt.hist(x, 25, range=(-50, 50), histtype='stepfilled',\n",
    "         align='mid', color='g', label='Test Data')\n",
    "# you call legend so it shows the label as legend\n",
    "plt.legend()\n",
    "plt.title('Step Filled Histogram')\n",
    "plt.show()"
   ]
  },
  {
   "cell_type": "markdown",
   "metadata": {},
   "source": [
    "## Depicting groups of numbers using box plots\n",
    "\n",
    "Box plots provide a means of depicting groups of numbers through their quartiles (three points dividing a group into four equal parts). A box plot may also have lines, called whiskers, indicating data outside the upper and lower quartiles. The spacing shown within a box plot helps indicate the dispersion of the data."
   ]
  },
  {
   "cell_type": "code",
   "execution_count": null,
   "metadata": {
    "collapsed": false
   },
   "outputs": [],
   "source": [
    "import numpy as np\n",
    "import matplotlib.pyplot as plt\n",
    "\n",
    "# spread contains a set of random numbers between 0 and 100\n",
    "# center provides 50 values directly in the center of the range of 50\n",
    "# flier_high simulates outliers between 100 and 200\n",
    "# flier_low simulates outliers between 0 and -100\n",
    "# The code combines all these values into single dataset using concatenate().\n",
    "spread = 100 * np.random.rand(100)\n",
    "center = np.ones(50) * 50\n",
    "flier_high = 100 * np.random.rand(10) + 100\n",
    "flier_low = -100 * np.random.rand(10)\n",
    "# creates a list combining all these data\n",
    "data = np.concatenate((spread, center, \n",
    "                       flier_high, flier_low))\n",
    "\n",
    "# sym is for showing outliers as green and with x\n",
    "# widths is for size(width) of the box\n",
    "# notch is for creating square box or box with a notch\n",
    "plt.boxplot(data, sym='gx', widths=.75, notch=False)\n",
    "plt.show()\n",
    "\n",
    "# The box shows the three data points as the box, with the red line in the middle being the median. The two black\n",
    "# horizontal lines connected to the box by whiskers show the upper and lower limits. The grees Xs are the outliers."
   ]
  },
  {
   "cell_type": "markdown",
   "metadata": {},
   "source": [
    "## Seeing data patterns using scatterplots\n",
    "\n",
    "Scatterplots show cluster of data rather than trends (as with line graphs) or discrete values (as with bar charts). The purpose of a scatterplot is to help you see data patterns."
   ]
  },
  {
   "cell_type": "code",
   "execution_count": null,
   "metadata": {
    "collapsed": false
   },
   "outputs": [],
   "source": [
    "import numpy as np\n",
    "import matplotlib.pyplot as plt\n",
    "\n",
    "# creating arrays\n",
    "# rand generates from distribution [0, 1)\n",
    "x1 = 5 * np.random.rand(40)\n",
    "x2 = 5 * np.random.rand(40) + 25\n",
    "x3 = 25 * np.random.rand(20)\n",
    "# combining all these arrays and creating a list\n",
    "x = np.concatenate((x1, x2, x3))\n",
    "\n",
    "y1 = 5 * np.random.rand(40)\n",
    "y2 = 5 * np.random.rand(40) + 25\n",
    "y3 = 25 * np.random.rand(20)\n",
    "y = np.concatenate((y1, y2, y3))\n",
    "\n",
    "# s is the size of each data point\n",
    "# marker is the shape of each data point\n",
    "# c is the color\n",
    "plt.scatter(x, y, s=[100], marker='^', c='y')\n",
    "plt.show()"
   ]
  },
  {
   "cell_type": "markdown",
   "metadata": {},
   "source": [
    "# Creating Advanced Scatterplots\n",
    "\n",
    "Scatterplots are especially important for data science because they can show data patterns that are not obvious when viewed in other ways. You can see data groupings with relative ease and help the viewer understand when data belongs to a particular group."
   ]
  },
  {
   "cell_type": "markdown",
   "metadata": {},
   "source": [
    "## Depicting groups"
   ]
  },
  {
   "cell_type": "code",
   "execution_count": null,
   "metadata": {
    "collapsed": false
   },
   "outputs": [],
   "source": [
    "import numpy as np\n",
    "import matplotlib.pyplot as plt\n",
    "\n",
    "x1 = 5 * np.random.rand(50)\n",
    "x2 = 5 * np.random.rand(50) + 25\n",
    "x3 = 30 * np.random.rand(25)\n",
    "x = np.concatenate((x1, x2, x3))\n",
    "\n",
    "y1 = 5 * np.random.rand(50)\n",
    "y2 = 5 * np.random.rand(50) + 25\n",
    "y3 = 30 * np.random.rand(25)\n",
    "y = np.concatenate((y1, y2, y3))\n",
    "\n",
    "# using different colors for the data\n",
    "color_array = ['b'] * 50 + ['g'] * 50 + ['r'] * 25\n",
    "\n",
    "plt.scatter(x, y, s=[50], marker='D', c=color_array)\n",
    "plt.show()"
   ]
  },
  {
   "cell_type": "markdown",
   "metadata": {},
   "source": [
    "## Showing correlations\n",
    "\n",
    "In some cases, you need to know the general direction that your data is taking when looking at a scatterplot. In this case, you add a trendline to the output.<br />\n",
    "Lease square regression is being used.\n",
    "\n",
    "http://docs.scipy.org/doc/numpy/reference/generated/numpy.polyfit.html"
   ]
  },
  {
   "cell_type": "code",
   "execution_count": null,
   "metadata": {
    "collapsed": false
   },
   "outputs": [],
   "source": [
    "import numpy as np\n",
    "import matplotlib.pyplot as plt\n",
    "import matplotlib.pylab as plb\n",
    "\n",
    "x1 = 15 * np.random.rand(50)\n",
    "x2 = 15 * np.random.rand(50) + 15\n",
    "x3 = 30 * np.random.rand(30)\n",
    "x = np.concatenate((x1, x2, x3))\n",
    "\n",
    "y1 = 15 * np.random.rand(50)\n",
    "y2 = 15 * np.random.rand(50) + 15\n",
    "y3 = 30 * np.random.rand(30)\n",
    "y = np.concatenate((y1, y2, y3))\n",
    "\n",
    "color_array = ['b'] * 50 + ['g'] * 50 + ['r'] * 25\n",
    "\n",
    "plt.scatter(x, y, s=[90], marker='*', c=color_array)\n",
    "\n",
    "# The vector output of polyfit() is used as input to poly1d(), which calculates the actual y-axis data points.\n",
    "# The third argument (1) is the degree of polinominal fit. Which is a line when it is 1.\n",
    "z = np.polyfit(x, y, 1)\n",
    "p = np.poly1d(z)\n",
    "# plot with red color and solid line\n",
    "plb.plot(x, p(x), 'r-')\n",
    "\n",
    "plt.show()"
   ]
  },
  {
   "cell_type": "markdown",
   "metadata": {},
   "source": [
    "# Plotting Time Series"
   ]
  },
  {
   "cell_type": "markdown",
   "metadata": {},
   "source": [
    "## Representing time on axes"
   ]
  },
  {
   "cell_type": "code",
   "execution_count": null,
   "metadata": {
    "collapsed": false
   },
   "outputs": [],
   "source": [
    "import datetime as dt\n",
    "import pandas as pd\n",
    "import matplotlib.pyplot as plt\n",
    "\n",
    "df = pd.DataFrame(columns=('Time', 'Sales'))\n",
    "\n",
    "start_date = dt.datetime(2015, 7,1)\n",
    "end_date = dt.datetime(2015, 7,10)\n",
    "daterange = pd.date_range(start_date, end_date)\n",
    "\n",
    "for single_date in daterange:\n",
    "    \n",
    "    # zip is built in Python function: \n",
    "    # x = [1, 2, 3]\n",
    "    # y = [4, 5, 6]\n",
    "    # zipped = zip(x, y)\n",
    "    # list(zipped)\n",
    "    # [(1, 4), (2, 5), (3, 6)]\n",
    "    row = dict(zip(['Time', 'Sales'],\n",
    "                   [single_date,\n",
    "                    int(50 * np.random.rand(1))]))\n",
    "    \n",
    "    row_s = pd.Series(row)\n",
    "    print row_s\n",
    "    \n",
    "    # get the month and day from each single_date and assign it to row_s.name\n",
    "    row_s.name = single_date.strftime('%b %d')\n",
    "    # it makes the indices of dataframe now what you assigned as names\n",
    "    df = df.append(row_s)\n",
    "    print df\n",
    "  \n",
    "# ix means the first entry will be indices\n",
    "df.ix['Jul 01':'Jul 07', ['Time', 'Sales']].plot()\n",
    "\n",
    "# y-axis range\n",
    "plt.ylim(0, 50)\n",
    "\n",
    "plt.xlabel('Sales Date')\n",
    "plt.ylabel('Sale Value')\n",
    "plt.title('Plotting Time')\n",
    "plt.show()"
   ]
  },
  {
   "cell_type": "markdown",
   "metadata": {},
   "source": [
    "## Plotting trends over time"
   ]
  },
  {
   "cell_type": "code",
   "execution_count": null,
   "metadata": {
    "collapsed": false
   },
   "outputs": [],
   "source": [
    "import datetime as dt\n",
    "import pandas as pd\n",
    "import matplotlib.pyplot as plt\n",
    "import numpy as np\n",
    "import matplotlib.pylab as plb\n",
    "\n",
    "df = pd.DataFrame(columns=('Time', 'Sales'))\n",
    "\n",
    "start_date = dt.datetime(2015, 7,1)\n",
    "end_date = dt.datetime(2015, 7,10)\n",
    "daterange = pd.date_range(start_date, end_date)\n",
    "\n",
    "for single_date in daterange:\n",
    "    row = dict(zip(['Time', 'Sales'],\n",
    "                   [single_date,\n",
    "                    int(50*np.random.rand(1))]))\n",
    "    row_s = pd.Series(row)\n",
    "    row_s.name = single_date.strftime('%b %d')\n",
    "    df = df.append(row_s)\n",
    "\n",
    "df.ix['Jul 01':'Jul 10', ['Time', 'Sales']].plot()\n",
    "\n",
    "# range from 0 to 10 as x\n",
    "# get the df as a matrix just on Sales and then flatten that to a list\n",
    "z = np.polyfit(range(0, 10), \n",
    "               df.as_matrix(['Sales']).flatten(), 1)\n",
    "p = np.poly1d(z)\n",
    "plb.plot(df.as_matrix(['Sales']), \n",
    "         p(df.as_matrix(['Sales'])), 'm-')\n",
    "\n",
    "plt.ylim(0, 50)\n",
    "plt.xlabel('Sales Date')\n",
    "plt.ylabel('Sale Value')\n",
    "plt.title('Plotting Time')\n",
    "plt.legend(['Sales', 'Trend'])\n",
    "plt.show()"
   ]
  },
  {
   "cell_type": "markdown",
   "metadata": {},
   "source": [
    "# Visualizing Graphs"
   ]
  },
  {
   "cell_type": "markdown",
   "metadata": {},
   "source": [
    "## Developing undirected graphs"
   ]
  },
  {
   "cell_type": "code",
   "execution_count": null,
   "metadata": {
    "collapsed": false
   },
   "outputs": [],
   "source": [
    "import networkx as nx\n",
    "import matplotlib.pyplot as plt\n",
    "\n",
    "# showing different ways to add nodes\n",
    "G = nx.Graph()\n",
    "H = nx.Graph()\n",
    "G.add_node(1)\n",
    "G.add_nodes_from([2, 3])\n",
    "G.add_nodes_from(range(4, 7))\n",
    "H.add_node(7)\n",
    "G.add_nodes_from(H)\n",
    "\n",
    "# showing different ways to add edges\n",
    "G.add_edge(1, 2)\n",
    "G.add_edges_from([(2,3), (3,6), (4,6), (5,6)])\n",
    "H.add_edges_from([(4,7), (5,7), (6,7)])\n",
    "G.add_edges_from(H.edges())\n",
    "\n",
    "nx.draw_networkx(G)\n",
    "plt.show()"
   ]
  },
  {
   "cell_type": "markdown",
   "metadata": {},
   "source": [
    "## Developing directed graphs"
   ]
  },
  {
   "cell_type": "code",
   "execution_count": null,
   "metadata": {
    "collapsed": false
   },
   "outputs": [],
   "source": [
    "import networkx as nx\n",
    "import matplotlib.pyplot as plt\n",
    "\n",
    "# creates directed graph\n",
    "G = nx.DiGraph()\n",
    "\n",
    "G.add_node(1)\n",
    "G.add_nodes_from([2, 3])\n",
    "G.add_nodes_from(range(4, 6))\n",
    "# add path let you create the node and edge at the same time\n",
    "G.add_path([6, 7, 8])\n",
    "\n",
    "G.add_edge(1, 2)\n",
    "G.add_edges_from([(1,4), (4,5), (2,3), (3,6), (5,6)])\n",
    "\n",
    "colors = ['r', 'g', 'g', 'g', 'g', 'm', 'm', 'r']\n",
    "labels = {1:'Start', 2:'2', 3:'3', 4:'4', \n",
    "          5:'5', 6:'6', 7:'7', 8:'End'}\n",
    "\n",
    "# size of the nodes\n",
    "sizes = [800, 300, 300, 300, 300, 600, 300, 800]\n",
    "\n",
    "nx.draw_networkx(G, node_color=colors, node_shape='D', \n",
    "                 with_labels=True, labels=labels, \n",
    "                 node_size=sizes)\n",
    "plt.show()"
   ]
  }
 ],
 "metadata": {
  "kernelspec": {
   "display_name": "Python 2",
   "language": "python",
   "name": "python2"
  },
  "language_info": {
   "codemirror_mode": {
    "name": "ipython",
    "version": 2
   },
   "file_extension": ".py",
   "mimetype": "text/x-python",
   "name": "python",
   "nbconvert_exporter": "python",
   "pygments_lexer": "ipython2",
   "version": "2.7.10"
  }
 },
 "nbformat": 4,
 "nbformat_minor": 0
}
