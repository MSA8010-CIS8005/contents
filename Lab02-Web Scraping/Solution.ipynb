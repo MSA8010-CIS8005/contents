{
 "cells": [
  {
   "cell_type": "code",
   "execution_count": null,
   "metadata": {
    "collapsed": false
   },
   "outputs": [],
   "source": [
    "# special IPython command to prepare the notebook for matplotlib\n",
    "%matplotlib inline \n",
    "\n",
    "from collections import defaultdict\n",
    "\n",
    "import pandas as pd\n",
    "import matplotlib.pyplot as plt\n",
    "import requests\n",
    "from pattern import web\n",
    "\n"
   ]
  },
  {
   "cell_type": "markdown",
   "metadata": {},
   "source": [
    "## Fetching population data from Wikipedia\n",
    "\n",
    "In this example we will fetch data about countries and their population from Wikipedia.\n",
    "\n",
    "http://en.wikipedia.org/wiki/List_of_countries_by_past_and_future_population has several tables for individual countries, subcontinents as well as different years. We will combine the data for all countries and all years in a single panda dataframe and visualize the change in population for different countries.\n",
    "\n",
    "###We will go through the following steps:\n",
    "* fetching html with embedded data\n",
    "* parsing html to extract the data\n",
    "* collecting the data in a panda dataframe\n",
    "* displaying the data\n",
    "\n",
    "We will also show the different sub-steps that can be taken to reach the presented solution."
   ]
  },
  {
   "cell_type": "markdown",
   "metadata": {},
   "source": [
    "## Fetching the Wikipedia site"
   ]
  },
  {
   "cell_type": "code",
   "execution_count": null,
   "metadata": {
    "collapsed": false
   },
   "outputs": [],
   "source": [
    "url = 'http://en.wikipedia.org/wiki/List_of_countries_by_past_and_future_population'\n",
    "website_html = requests.get(url).text\n",
    "print website_html"
   ]
  },
  {
   "cell_type": "markdown",
   "metadata": {},
   "source": [
    "## Parsing html data"
   ]
  },
  {
   "cell_type": "code",
   "execution_count": null,
   "metadata": {
    "collapsed": false
   },
   "outputs": [],
   "source": [
    "def get_population_html_tables(html):\n",
    "    \"\"\"Parse html and return html tables of wikipedia population data.\"\"\"\n",
    "\n",
    "    dom = web.Element(html)\n",
    "\n",
    "    ### 0. step: look at html source!\n",
    "    \n",
    "    #### 1. step: get all tables\n",
    "\n",
    "    #### 2. step: get all tables we care about\n",
    "    tbls = dom.by_class('sortable wikitable')\n",
    "    return tbls\n",
    "\n",
    "tables = get_population_html_tables(website_html)\n",
    "print \"table length: %d\" %len(tables)\n",
    "for t in tables:\n",
    "    print t\n",
    "    print t.attributes\n"
   ]
  },
  {
   "cell_type": "code",
   "execution_count": null,
   "metadata": {
    "collapsed": false
   },
   "outputs": [],
   "source": [
    "def table_type(tbl):\n",
    "    ### Extract the table type\n",
    "    #print tbl('th')[1].content\n",
    "    \n",
    "    #this conforms to saved html file, they changed the webpage\n",
    "    #return tbl('th')[0].content\n",
    "    \n",
    "    return tbl('th')[1].content\n",
    "    \n",
    "#   for tb in tbl('th'):\n",
    "#       print tb.content\n",
    "#   print thl   \n",
    "#   return 'table'\n",
    "\n",
    "# group the tables by type\n",
    "# https://docs.python.org/2/library/collections.html#collections.defaultdict\n",
    "tables_by_type = defaultdict(list)  \n",
    "\n",
    "# if we dont use defaultdict then we need write following code\n",
    "#for tbl in tables:\n",
    "#    typ = table_type(tbl)\n",
    "#    if typ in tables_by_type:\n",
    "#        tables_by_type[typ].append(tbl)\n",
    "#    else:\n",
    "#        tables_by_type[typ] = tbl\n",
    "\n",
    "\n",
    "for tbl in tables:\n",
    "    tables_by_type[table_type(tbl)].append(tbl)\n",
    "\n",
    "print tables_by_type\n",
    "# This conforms to saved html file\n",
    "# print tables_by_type['Country or territory']\n",
    "\n",
    "# print tables_by_type['Country (or dependent territory)']"
   ]
  },
  {
   "cell_type": "code",
   "execution_count": null,
   "metadata": {
    "collapsed": true
   },
   "outputs": [],
   "source": [
    "## Extracting data and filling it into a dictionary"
   ]
  },
  {
   "cell_type": "code",
   "execution_count": null,
   "metadata": {
    "collapsed": false
   },
   "outputs": [],
   "source": [
    "def get_countries_population(tables):\n",
    "    \"\"\"Extract population data for countries from all tables and store it in dictionary.\"\"\"\n",
    "    \n",
    "    result = defaultdict(dict)\n",
    "\n",
    "    # 1. step: try to extract data for a single table\n",
    "    for tbl in tables:\n",
    "        #tbl = tables[0]\n",
    "        #print tbl\n",
    "        headers = tbl('tr')\n",
    "        #print headers\n",
    "        first_header = headers[0]\n",
    "        th_s = first_header('th')\n",
    "        years = [int(val.content) for val in th_s if val.content.isnumeric()]\n",
    "        year_indices = [idx for idx, val in enumerate(th_s) if val.content.isnumeric()]\n",
    "        #print years\n",
    "        #print year_indices\n",
    "        # 2. step: iterate over all tables, extract headings and actual data and combine data into single dict\n",
    "        rows = tbl('tr')[1:]\n",
    "        \n",
    "        # this conforms to saved html file, they changed teh webpage\n",
    "        # for row in rows:\n",
    "        # the row = rows[i] is not needed for saved html file\n",
    "        \n",
    "        for i in range(0, len(rows) - 1):\n",
    "            row = rows[i]\n",
    "            #print row\n",
    "            tds = row('td')\n",
    "            country_name = tds[1]('a')[0].content\n",
    "            population_by_year = [int(tds[colindex].content.replace(',', '')) for colindex in year_indices]\n",
    "            #print country_name, population_by_year\n",
    "            subdict = dict(zip(years, population_by_year))\n",
    "            result[country_name].update(subdict)\n",
    "    \n",
    "    return result\n",
    "\n",
    "# this is matching saved html file, it changed due to change to webpage\n",
    "#result = get_countries_population(tables_by_type['Country or territory'])\n",
    "\n",
    "result = get_countries_population(tables_by_type['Country (or dependent territory)'])\n",
    "print result"
   ]
  },
  {
   "cell_type": "code",
   "execution_count": null,
   "metadata": {
    "collapsed": false
   },
   "outputs": [],
   "source": [
    "%debug # I put this cell as I had issues"
   ]
  },
  {
   "cell_type": "code",
   "execution_count": null,
   "metadata": {
    "collapsed": true
   },
   "outputs": [],
   "source": [
    "## Creating a dataframe from a dictionary"
   ]
  },
  {
   "cell_type": "code",
   "execution_count": null,
   "metadata": {
    "collapsed": false
   },
   "outputs": [],
   "source": [
    "# create dataframe\n",
    "\n",
    "# orient index means top level keys used for row labels\n",
    "# in panda index means rows\n",
    "df = pd.DataFrame.from_dict(result, orient='index')\n",
    "# sort based on year\n",
    "df.sort(axis=1,inplace=True)\n",
    "#print df.to_html() will print everything in html format\n",
    "# look at panda printin settings and possibly way to print all\n",
    "print df"
   ]
  },
  {
   "cell_type": "markdown",
   "metadata": {},
   "source": [
    "## Some data accessing functions for a panda dataframe"
   ]
  },
  {
   "cell_type": "code",
   "execution_count": null,
   "metadata": {
    "collapsed": false
   },
   "outputs": [],
   "source": [
    "subtable = df.iloc[0:2, 0:2]\n",
    "print \"subtable\"\n",
    "print subtable\n",
    "print \"\"\n",
    "\n",
    "column = df[1955]\n",
    "print \"column\"\n",
    "print column\n",
    "print \"\"\n",
    "\n",
    "row = df.ix[0] #row 0\n",
    "print \"row\"\n",
    "print row\n",
    "print \"\"\n",
    "\n",
    "rows = df.ix[:2] #rows 0,1\n",
    "print \"rows\"\n",
    "print rows\n",
    "print \"\"\n",
    "\n",
    "element = df.ix[0,1955] #element\n",
    "print \"element\"\n",
    "print element\n",
    "print \"\"\n",
    "\n",
    "# max along column\n",
    "print \"max\"\n",
    "print df[1950].max()\n",
    "print \"\"\n",
    "\n",
    "# axes\n",
    "print \"axes\"\n",
    "print df.axes\n",
    "print \"\"\n",
    "\n",
    "row = df.ix[0]\n",
    "print \"row info\"\n",
    "print row.name\n",
    "print row.index\n",
    "print \"\"\n",
    "\n",
    "countries =  df.index\n",
    "print \"countries\"\n",
    "print countries\n",
    "print \"\"\n",
    "\n",
    "print \"Austria\"\n",
    "print df.ix['Austria']"
   ]
  },
  {
   "cell_type": "markdown",
   "metadata": {},
   "source": [
    "## Plotting population of 4 countries"
   ]
  },
  {
   "cell_type": "code",
   "execution_count": null,
   "metadata": {
    "collapsed": false
   },
   "outputs": [],
   "source": [
    "plotCountries = ['Austria', 'Germany', 'United States', 'France']\n",
    "    \n",
    "for country in plotCountries:\n",
    "    row = df.ix[country]\n",
    "    plt.plot(row.index, row, label=row.name ) \n",
    "    \n",
    "plt.ylim(ymin=0) # start y axis at 0\n",
    "\n",
    "# rotate labels 70 degree\n",
    "plt.xticks(rotation=70)\n",
    "# put legends best place not to interfere with the plot\n",
    "plt.legend(loc='best')\n",
    "plt.xlabel(\"Year\")\n",
    "plt.ylabel(\"# people (million)\")\n",
    "plt.title(\"Population of countries\")"
   ]
  },
  {
   "cell_type": "markdown",
   "metadata": {},
   "source": [
    "## Plot 5 most populous countries from 2010 and 2060"
   ]
  },
  {
   "cell_type": "code",
   "execution_count": null,
   "metadata": {
    "collapsed": false
   },
   "outputs": [],
   "source": [
    "def plot_populous(df, year):\n",
    "    # sort table depending on data value in year column\n",
    "    df_by_year = df.sort(year, ascending=False)\n",
    "    for i in range(5):  \n",
    "        row = df_by_year.ix[i]\n",
    "        plt.plot(row.index, row, label=row.name ) \n",
    "            \n",
    "    plt.ylim(ymin=0)\n",
    "    \n",
    "    plt.xticks(rotation=70)\n",
    "    plt.legend(loc='best')\n",
    "    plt.xlabel(\"Year\")\n",
    "    plt.ylabel(\"# people (million)\")\n",
    "    plt.title(\"Most populous countries in %d\" % year)\n",
    "\n",
    "plot_populous(df, 2010)\n",
    "#plot_populous(df, 2050)"
   ]
  }
 ],
 "metadata": {
  "kernelspec": {
   "display_name": "Python 2",
   "language": "python",
   "name": "python2"
  },
  "language_info": {
   "codemirror_mode": {
    "name": "ipython",
    "version": 2
   },
   "file_extension": ".py",
   "mimetype": "text/x-python",
   "name": "python",
   "nbconvert_exporter": "python",
   "pygments_lexer": "ipython2",
   "version": "2.7.10"
  }
 },
 "nbformat": 4,
 "nbformat_minor": 0
}
